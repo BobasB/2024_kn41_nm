{
 "cells": [
  {
   "cell_type": "code",
   "execution_count": null,
   "metadata": {},
   "outputs": [],
   "source": [
    "import numpy as np\n",
    "import matplotlib.pyplot as plt"
   ]
  },
  {
   "cell_type": "markdown",
   "metadata": {},
   "source": [
    "### Однорідні масиви та структуровані дані\n",
    "- можна працювати з одноріними даними які представляють собою набір цифр а можна додати значення тим цифрам з якими ми працюємо\n",
    "\n",
    "Приклад\n",
    "- нам потрібно земулювати гру в якій є шахта яка виробляє залізну руда\n",
    "Варіант 1. ми можемо просто задити дані які ми будемо вважати за виробництво руди"
   ]
  },
  {
   "cell_type": "code",
   "execution_count": null,
   "metadata": {},
   "outputs": [],
   "source": [
    "def produce_resource(reusource_type: np.array):\n",
    "    \"\"\"Це шахта яка виробляє залізну руду\n",
    "    \"\"\"\n",
    "    return np.append(reusource_type, [np.random.randint(1, 4)])\n",
    "\n",
    "start_resources = np.array([])\n",
    "daily_production = []\n",
    "\n",
    "for day in range(30):\n",
    "    resource_storage = produce_resource(start_resources)\n",
    "    print(resource_storage)\n",
    "    start_resources = resource_storage\n",
    "    daily_production.append(resource_storage.sum())\n",
    "\n",
    "print(f\"За місяць накопичилось руди : {resource_storage.sum()}\")\n",
    "\n",
    "# Графік для накопичення руди\n",
    "plt.figure(figsize=(10, 5))\n",
    "plt.plot(range(1, 31), daily_production, label='Iron Ore Accumulation', color='gray')\n",
    "plt.xlabel('Days')\n",
    "plt.ylabel('Total Iron Ore')\n",
    "plt.title('Accumulation of Iron Ore Over Time')\n",
    "plt.legend()\n",
    "plt.show()"
   ]
  },
  {
   "cell_type": "markdown",
   "metadata": {},
   "source": [
    "> поки ми працювали просто з числами яким надали певну інтерпретацію, але ми можемо самостійно визначити тип даних який вже буду вказувати з чим ми працюємо\n",
    "\n",
    "Варіант 2. ми можемо структуризувати дані які будуть чітко вказувати що виробляє шахта"
   ]
  },
  {
   "cell_type": "code",
   "execution_count": null,
   "metadata": {},
   "outputs": [],
   "source": [
    "#                  Назва поля      його тип його довжина\n",
    "ore = np.dtype([(\"resource_name\", np.str_, 16), (\"amount\", np.int_)])\n",
    "\n",
    "def mine_production(resources: np.array):\n",
    "    \"\"\"Шахта має сортувати руду яку виробляє\n",
    "    \"\"\"\n",
    "    p = np.random.choice(['Iron', 'Copper'])\n",
    "    for res in resources:\n",
    "        if res[\"resource_name\"] == p:\n",
    "            print(f\"Виробляємо {p} руду\")\n",
    "            res[\"amount\"] += np.random.randint(1, 4)\n",
    "    \n",
    "    return resources\n",
    "\n",
    "start_resources = np.array([('Iron', 0), ('Copper', 0) ], dtype=ore)\n",
    "iron_accumulation = []\n",
    "copper_accumulation = []\n",
    "\n",
    "# Симуляція роботи шахти на 30 днів\n",
    "for day in range(30):\n",
    "    print(f\"День {day}: Ресурси в сховищі: {start_resources}\")\n",
    "    resource_storage = mine_production(start_resources)\n",
    "    start_resources = resource_storage\n",
    "    # Накопичуємо значення для графіків\n",
    "    iron_accumulation.append(resource_storage[0][\"amount\"])\n",
    "    copper_accumulation.append(resource_storage[1][\"amount\"])\n",
    "\n",
    "for ore_type in resource_storage:\n",
    "    print(f\"За місяць накопичилось руди : {ore_type[\"resource_name\"]} {ore_type[\"amount\"]}\")\n",
    "\n",
    "# Графік для накопичення заліза і міді\n",
    "plt.figure(figsize=(10, 5))\n",
    "plt.plot(range(1, 31), iron_accumulation, label='Iron Ore', color='gray')\n",
    "plt.plot(range(1, 31), copper_accumulation, label='Copper Ore', color='brown')\n",
    "plt.xlabel('Days')\n",
    "plt.ylabel('Total Resources')\n",
    "plt.title('Accumulation of Iron and Copper Ore Over Time')\n",
    "plt.legend()\n",
    "plt.show()\n"
   ]
  }
 ],
 "metadata": {
  "kernelspec": {
   "display_name": "Python 3",
   "language": "python",
   "name": "python3"
  },
  "language_info": {
   "codemirror_mode": {
    "name": "ipython",
    "version": 3
   },
   "file_extension": ".py",
   "mimetype": "text/x-python",
   "name": "python",
   "nbconvert_exporter": "python",
   "pygments_lexer": "ipython3",
   "version": "3.12.3"
  }
 },
 "nbformat": 4,
 "nbformat_minor": 2
}
