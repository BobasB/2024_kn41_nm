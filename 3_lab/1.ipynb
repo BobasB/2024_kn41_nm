{
 "cells": [
  {
   "cell_type": "markdown",
   "metadata": {},
   "source": [
    "## Вступ до чисельних методів\n",
    "- виконуючи Наутбук там будуть комірки `homework` - в них буде завдання на яке потрібно дати відповідь\n",
    "- під завданням додаєте функцію `print` і відповідаєте за запитання"
   ]
  },
  {
   "cell_type": "code",
   "execution_count": null,
   "metadata": {},
   "outputs": [],
   "source": [
    "%pip install numpy"
   ]
  },
  {
   "cell_type": "code",
   "execution_count": null,
   "metadata": {},
   "outputs": [],
   "source": [
    "import numpy as np"
   ]
  },
  {
   "cell_type": "markdown",
   "metadata": {},
   "source": [
    "- чому ми використовуємо `numpy` - бо простими конструкціями Пайтона нам потрібно було бписати багато коду і працювати з циклами, а numpy по замовчуванню робить всі операції над кожним елементом масиву "
   ]
  },
  {
   "cell_type": "code",
   "execution_count": null,
   "metadata": {},
   "outputs": [],
   "source": [
    "x = 1\n",
    "y = 2\n",
    "\n",
    "z = x * y\n",
    "z"
   ]
  },
  {
   "cell_type": "code",
   "execution_count": null,
   "metadata": {},
   "outputs": [],
   "source": [
    "m = list(range(12))\n",
    "\n",
    "print(m)\n",
    "\n",
    "mm = [i+1 for i in m] # для того щоб додати число ми повинні витягнутикожен елмент і виконати операцю\n",
    "print(mm)\n",
    "\n",
    "from random import randint\n",
    "\n",
    "k = [randint(1, 12) * i/12 for i in mm]"
   ]
  },
  {
   "cell_type": "code",
   "execution_count": null,
   "metadata": {},
   "outputs": [],
   "source": [
    "sum(k)"
   ]
  },
  {
   "cell_type": "code",
   "execution_count": null,
   "metadata": {},
   "outputs": [],
   "source": [
    "n = np.array(range(12))\n",
    "n += 1\n",
    "n"
   ]
  },
  {
   "cell_type": "code",
   "execution_count": null,
   "metadata": {},
   "outputs": [],
   "source": [
    "n = np.random.randint(1, 13) * n/12\n",
    "n"
   ]
  },
  {
   "cell_type": "code",
   "execution_count": null,
   "metadata": {},
   "outputs": [],
   "source": [
    "n.sum()"
   ]
  },
  {
   "cell_type": "markdown",
   "metadata": {},
   "source": [
    "### Способи створення наборів даних\n",
    "- дані методи генерують послідовності з певним кроком\n",
    "\n",
    "#### Термінологія\n",
    "- numpy в основному працює з так званими масивами\n",
    "- масиви бувають одно та багатовимірні\n",
    "- одновимірні масиви ще називаються векторами\n",
    "- двовимірний масив називається матрицею"
   ]
  },
  {
   "cell_type": "code",
   "execution_count": null,
   "metadata": {},
   "outputs": [],
   "source": [
    "x = list(range(12))\n",
    "print(x)\n",
    "y = np.arange(1, 12) # по замовчуванню крок = 1\n",
    "print(y)\n",
    "y = np.arange(1, 12, 2)\n",
    "print(y)"
   ]
  },
  {
   "cell_type": "code",
   "execution_count": null,
   "metadata": {},
   "outputs": [],
   "source": [
    "x = np.arange(-10, 10, 0.5)\n",
    "y = x**2 * np.cos(x)\n",
    "y\n",
    "\n",
    "import matplotlib.pyplot as plt\n",
    "\n",
    "plt.plot(x, y)\n",
    "plt.show()"
   ]
  },
  {
   "cell_type": "code",
   "execution_count": null,
   "metadata": {},
   "outputs": [],
   "source": [
    "s = np.arange(1, 13)\n",
    "print(\"Одновимірний вектор має вимірів:\", s.ndim, len(s))\n",
    "\n",
    "d = s.reshape(3,4)\n",
    "print(\"Двовимірний масив, це матриця і має вимірів:\", d.ndim)"
   ]
  },
  {
   "cell_type": "markdown",
   "metadata": {},
   "source": [
    "### Вимірність numpy масивів\n",
    "- одновимірні масиви називаються скалярами\n",
    "- одновимірний масив з багатьому елементами називається вектором\n",
    "- двовимірний масив називається матрицею\n",
    "\n",
    "крім вимірності (ndim) є ще поняття форми (shape)"
   ]
  },
  {
   "cell_type": "code",
   "execution_count": null,
   "metadata": {},
   "outputs": [],
   "source": [
    "sk = np.array([0])\n",
    "print(f\"Вимірність: {sk.ndim}, Форма: {sk.shape}\")\n",
    "\n",
    "vk = np.array([1, 4, 6])\n",
    "print(f\"Вимірність: {vk.ndim}, Форма: {vk.shape}\")\n",
    "\n",
    "mt1 = np.array([[0], [1]])\n",
    "mt2 = np.array([[0, 9], [1, 3]])\n",
    "mt3 = np.array([[0, 1, 2], [1, 0, 1]])\n",
    "print(mt1.ndim, mt2.ndim, mt3.ndim)\n",
    "print(mt1)\n",
    "print(f\"Вимірність: {mt1.ndim}, Форма: {mt1.shape}\")\n",
    "\n",
    "nv = np.array([[[1,2], [3,4], [5,6]], [[7,8], [9,0], [11,12]]])\n",
    "print(nv)\n",
    "print(f\"Вимірність: {nv.ndim}, Форма: {nv.shape}\")\n"
   ]
  },
  {
   "cell_type": "markdown",
   "metadata": {},
   "source": [
    "### Індексування та зрізи"
   ]
  },
  {
   "cell_type": "code",
   "execution_count": null,
   "metadata": {},
   "outputs": [],
   "source": [
    "test = np.arange(9)\n",
    "reversed_test = test[::-1]\n",
    "nv = reversed_test.reshape(3,3)\n",
    "\n",
    "print(test, reversed_test)\n",
    "\n",
    "print(f\"для доступу по індексах, просто вказуємо індекс: {test[0]}, {reversed_test[0]}\")\n",
    "print(f\"\"\"\n",
    "для доступу по зрізах, вказує звідки і до куди потрібно зрізати: \n",
    "{test[:]}\n",
    "{test[:4]}\n",
    "{test[-1:-4:-1]}\n",
    "{test[2:6]}\n",
    "\n",
    "{nv}\n",
    "\n",
    "Правий верхній кут: {nv[0,2]}\n",
    "Нижній лівий кут: {nv[2, 0]}\n",
    "Зріз стовпця, берем середній: {nv[:, 1]} \n",
    "Зріз рядка, берем останній: {nv[2, :]}\n",
    "\n",
    "Зрізаємо підматрицю, верхня права: {nv[0:2, 1:]}\n",
    "\"\"\")"
   ]
  },
  {
   "cell_type": "code",
   "execution_count": null,
   "metadata": {},
   "outputs": [],
   "source": [
    "test = np.arange(25).reshape(5,5)\n",
    "print(f\"\"\"\n",
    "{test}\n",
    "Витягуємо внутрішню матрицю 3х3:\n",
    "{test[1:4, 1:4]}\n",
    "\n",
    "{test[::2, ::3]}\n",
    "\"\"\")"
   ]
  },
  {
   "cell_type": "markdown",
   "metadata": {},
   "source": [
    "### Різниця між методами arange та linspace"
   ]
  },
  {
   "cell_type": "code",
   "execution_count": null,
   "metadata": {},
   "outputs": [],
   "source": [
    "a = np.arange(0, 10)\n",
    "l = np.linspace(0, 9, num=9)\n",
    "\n",
    "print(f\"\"\"\n",
    "Метод arange дасть: {a}\n",
    "Метод linspace дасть: {l}\n",
    "      \"\"\")"
   ]
  },
  {
   "cell_type": "markdown",
   "metadata": {},
   "source": [
    "розгладаємо як буде виглядати використання методів arange та linspace при побудові графіків"
   ]
  },
  {
   "cell_type": "code",
   "execution_count": null,
   "metadata": {},
   "outputs": [],
   "source": [
    "import matplotlib.pyplot as plt\n",
    "\n",
    "fig, (ax1, ax2, ax3) = plt.subplots(1,3)\n",
    "\n",
    "ax1.set_title(\"Досліджуємо arange\")\n",
    "ax1.set_xlabel(\"X\")\n",
    "ax1.set_ylabel(\"Значення функції\")\n",
    "\n",
    "ax2.set_title(\"Досліджуємо linspace\")\n",
    "ax2.set_xlabel(\"X\")\n",
    "ax2.set_ylabel(\"Значення функції\")\n",
    "\n",
    "ax3.set_title(\"Випадкові коливання\")\n",
    "ax3.set_xlabel(\"X\")\n",
    "ax3.set_ylabel(\"Рандом\")\n",
    "\n",
    "xa = np.arange(-10, 10) # тут можна коригувати крок, дефолтний = 1\n",
    "print(f\"Для методу arange згенерували: {xa.size} точок\")\n",
    "ya = xa**2 * np.cos(xa)\n",
    "\n",
    "#####\n",
    "xl = np.linspace(-10, 10, 100)  # 50 значень, можемо коригувати кількість\n",
    "print(f\"Для методу linspace згенерували: {xl.size} точок\")\n",
    "yl = xl**2 * np.cos(xl)\n",
    "\n",
    "#####\n",
    "xr = np.linspace(-10,10)\n",
    "yr = np.random.normal(0, 0.5, 50).round(4)\n",
    "print(f\"Згенеровані випадкові значення, max: {yr.max()}, min: {yr.min()}\")\n",
    "\n",
    "ax1.plot(xa, ya, color=\"red\")\n",
    "ax1.scatter(xa, ya, color='blue', marker='x') \n",
    "\n",
    "ax2.plot(xl, yl, color=\"black\")\n",
    "ax2.scatter(xl, yl, color='green', marker='v') \n",
    "\n",
    "ax3.plot(xr, yr, color=\"black\")\n",
    "ax3.scatter(xr, yr, color='green', marker='v') \n",
    "\n",
    "plt.tight_layout()\n",
    "plt.show()"
   ]
  },
  {
   "cell_type": "markdown",
   "metadata": {},
   "source": [
    " ### приклад продажу товарів за місяць\n",
    " "
   ]
  },
  {
   "cell_type": "code",
   "execution_count": null,
   "metadata": {},
   "outputs": [],
   "source": [
    "d = np.arange(1, 32)\n",
    "\n",
    "base_sales = np.random.normal(10, 2, size=d.size).round(0)\n",
    "base_sales\n",
    "\n",
    "plt.plot(d, base_sales, color=\"green\")\n",
    "plt.scatter(d, base_sales, marker=\"o\")\n",
    "plt.fill_between(d, base_sales, 10, where=(base_sales > 10), color='orange', label=\"Продажі успішні\")\n",
    "plt.fill_between(d, base_sales, 10, where=(base_sales < 10), color='red', label=\"Продажі впали\")\n",
    "\n",
    "\n",
    "plt.title(\"Кількість продажів за Жовтень\")\n",
    "plt.xlabel(\"День місяця\")\n",
    "plt.ylabel(\"Кількість проданих товарів\")\n",
    "plt.legend()\n",
    "plt.grid()\n",
    "plt.show()"
   ]
  },
  {
   "cell_type": "markdown",
   "metadata": {},
   "source": [
    "### Створення наперд визначених (загальновідомих) матриць\n",
    "- найпростішими є матриці з всіма 1 або всіма 0. Якщо ми захочемо використовувати булевий тип даних то відповідно будемо мати всі True або False"
   ]
  },
  {
   "cell_type": "code",
   "execution_count": null,
   "metadata": {},
   "outputs": [],
   "source": [
    "for i in range(4):\n",
    "    print(np.ones(i))\n",
    "    print(np.zeros(i))\n",
    "\n",
    "print(np.ones((4,4), dtype=bool), \"\\n\", np.zeros((4,4), dtype=bool))"
   ]
  },
  {
   "cell_type": "markdown",
   "metadata": {},
   "source": [
    "### Приклад від Чат\n",
    "1. np.ones та np.zeros для матричних обчислень\n",
    "В обчислювальних задачах часто необхідно створити матриці, які слугуватимуть стартовими значеннями для операцій чи моделей. Наприклад, при обчисленні середніх значень, стандартних відхилень, або у випадках, коли значення будуть змінюватись у процесі циклів або умовних операцій.\n",
    "\n",
    "Приклад:"
   ]
  },
  {
   "cell_type": "code",
   "execution_count": null,
   "metadata": {},
   "outputs": [],
   "source": [
    "import numpy as np\n",
    "\n",
    "# Створюємо масив 3x3, заповнений нулями для ініціалізації\n",
    "# Також можна це використовувати як початкову ініціалізацію для накопичення\n",
    "initial_matrix = np.zeros((3, 3))\n",
    "print(\"Initial Matrix:\\n\", initial_matrix)\n",
    "\n",
    "# Ініціалізуємо масив 3x3, заповнений одиницями\n",
    "weights = np.ones((3, 3)) * 0.5  # Наприклад, 0.5 як ваговий коефіцієнт\n",
    "# Негарно якщо всі значення будуть однаковими, внесемо різноманіття\n",
    "weights[1, 1] = 2 \n",
    "weights[0, :] = 1.2\n",
    "\n",
    "print(\"Weights:\\n\", weights)\n",
    "\n",
    "# Додавання початкової матриці і ваг\n",
    "result = initial_matrix + weights\n",
    "print(\"Result:\\n\", result)\n"
   ]
  },
  {
   "cell_type": "code",
   "execution_count": null,
   "metadata": {},
   "outputs": [],
   "source": [
    "%pip install pillow"
   ]
  },
  {
   "cell_type": "code",
   "execution_count": null,
   "metadata": {},
   "outputs": [],
   "source": [
    "from PIL import Image\n",
    "import numpy as np\n",
    "import matplotlib.pyplot as plt\n",
    "\n",
    "# Завантажимо зображення і конвертуємо його у формат масиву NumPy\n",
    "image = Image.open(\"../init/chat_icon.jpg\")  # Заміни \"example.jpg\" на свій файл\n",
    "image_array = np.array(image)\n",
    "\n",
    "# Перевіримо форму масиву: наприклад, (висота, ширина, 3) для RGB\n",
    "print(\"Shape of image array:\", image_array.shape)\n",
    "\n",
    "# Інвертуємо кольори зображення (RGB -> 255 - значення)\n",
    "inverted_image_array = 255 - image_array\n",
    "\n",
    "# Відображаємо зображення в Jupyter Notebook\n",
    "plt.figure(figsize=(8, 8))\n",
    "plt.imshow(inverted_image_array)\n",
    "plt.axis(\"off\")  # Прибираємо осі для кращого вигляду\n",
    "plt.show()"
   ]
  },
  {
   "cell_type": "code",
   "execution_count": null,
   "metadata": {},
   "outputs": [],
   "source": [
    "# Створимо масив ones для коефіцієнта яскравості\n",
    "brightness_factor = 0.1  # Зменшення яскравості на 50%\n",
    "filter_matrix = np.ones(image_array.shape) * brightness_factor\n",
    "\n",
    "# Застосуємо фільтр до зображення (перемножимо поелементно)\n",
    "darker_image_array = (image_array * filter_matrix).astype(np.uint8)  # Конвертуємо до 8-бітного формату\n",
    "\n",
    "# Відобразимо зображення\n",
    "plt.figure(figsize=(8, 8))\n",
    "plt.imshow(darker_image_array)\n",
    "plt.axis(\"off\")\n",
    "plt.show()"
   ]
  },
  {
   "cell_type": "code",
   "execution_count": null,
   "metadata": {},
   "outputs": [],
   "source": [
    "# зазвичай показують таблицю машрутів, згадуйте матрицю відстаней між містами\n",
    "# Нприклад Київ Львів\n",
    "routes = np.identity(5)\n",
    "routes[0, 1] = 600\n",
    "routes[1, 0] = 600\n",
    "print(routes)"
   ]
  },
  {
   "cell_type": "code",
   "execution_count": null,
   "metadata": {},
   "outputs": [],
   "source": [
    "np.eye(5, 3)"
   ]
  },
  {
   "cell_type": "markdown",
   "metadata": {},
   "source": [
    "### Приклад від Чат\n",
    "Приклад:\n",
    "Для регуляризації у моделі лінійної регресії, часто додають одиничну матрицю, помножену на коефіцієнт регуляризації (λ), до матриці ознак, щоб запобігти переобученню. Це допомагає зробити обчислення стабільнішими."
   ]
  },
  {
   "cell_type": "code",
   "execution_count": null,
   "metadata": {},
   "outputs": [],
   "source": [
    "import numpy as np\n",
    "\n",
    "X = np.array([[1, 2], [3, 4]])  # Приклад матриці ознак\n",
    "lambda_reg = 0.1  # Коефіцієнт регуляризації\n",
    "\n",
    "# Додаємо регуляризаційний терм (λ * одинична матриця)\n",
    "X_regularized = X + lambda_reg * np.eye(X.shape[0])\n",
    "print(\"Регуляризована матриця:\\n\", X_regularized)\n"
   ]
  },
  {
   "cell_type": "markdown",
   "metadata": {},
   "source": [
    "### Представимо що ми маємо записи температури у кожному місті"
   ]
  },
  {
   "cell_type": "code",
   "execution_count": null,
   "metadata": {},
   "outputs": [],
   "source": [
    "dt = np.dtype([('city',np.str_, 20), ('temperature', np.int8)])\n",
    "t = np.genfromtxt(\"1.csv\", dtype=dt, delimiter=\",\", skip_header=1)\n",
    "print(t)\n",
    "\n",
    "for d in t:\n",
    "    print(f\"У місті {d['city']} маємо температуру {d['temperature']} градусів\")"
   ]
  }
 ],
 "metadata": {
  "kernelspec": {
   "display_name": "Python 3",
   "language": "python",
   "name": "python3"
  },
  "language_info": {
   "codemirror_mode": {
    "name": "ipython",
    "version": 3
   },
   "file_extension": ".py",
   "mimetype": "text/x-python",
   "name": "python",
   "nbconvert_exporter": "python",
   "pygments_lexer": "ipython3",
   "version": "3.12.3"
  }
 },
 "nbformat": 4,
 "nbformat_minor": 2
}
