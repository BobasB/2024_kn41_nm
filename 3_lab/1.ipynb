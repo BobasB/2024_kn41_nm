{
 "cells": [
  {
   "cell_type": "markdown",
   "metadata": {},
   "source": [
    "## Вступ до чисельних методів\n",
    "- виконуючи Наутбук там будуть комірки `homework` - в них буде завдання на яке потрібно дати відповідь\n",
    "- під завданням додаєте функцію `print` і відповідаєте за запитання"
   ]
  },
  {
   "cell_type": "code",
   "execution_count": null,
   "metadata": {},
   "outputs": [],
   "source": [
    "%pip install numpy"
   ]
  },
  {
   "cell_type": "code",
   "execution_count": null,
   "metadata": {},
   "outputs": [],
   "source": [
    "import numpy as np"
   ]
  },
  {
   "cell_type": "markdown",
   "metadata": {},
   "source": [
    "- чому ми використовуємо `numpy` - бо простими конструкціями Пайтона нам потрібно було бписати багато коду і працювати з циклами, а numpy по замовчуванню робить всі операції над кожним елементом масиву "
   ]
  },
  {
   "cell_type": "code",
   "execution_count": null,
   "metadata": {},
   "outputs": [],
   "source": [
    "x = 1\n",
    "y = 2\n",
    "\n",
    "z = x * y\n",
    "z"
   ]
  },
  {
   "cell_type": "code",
   "execution_count": null,
   "metadata": {},
   "outputs": [],
   "source": [
    "m = list(range(12))\n",
    "\n",
    "print(m)\n",
    "\n",
    "mm = [i+1 for i in m] # для того щоб додати число ми повинні витягнутикожен елмент і виконати операцю\n",
    "print(mm)\n",
    "\n",
    "from random import randint\n",
    "\n",
    "k = [randint(1, 12) * i/12 for i in mm]"
   ]
  },
  {
   "cell_type": "code",
   "execution_count": null,
   "metadata": {},
   "outputs": [],
   "source": [
    "sum(k)"
   ]
  },
  {
   "cell_type": "code",
   "execution_count": null,
   "metadata": {},
   "outputs": [],
   "source": [
    "n = np.array(range(12))\n",
    "n += 1\n",
    "n"
   ]
  },
  {
   "cell_type": "code",
   "execution_count": null,
   "metadata": {},
   "outputs": [],
   "source": [
    "n = np.random.randint(1, 13) * n/12\n",
    "n"
   ]
  },
  {
   "cell_type": "code",
   "execution_count": null,
   "metadata": {},
   "outputs": [],
   "source": [
    "n.sum()"
   ]
  },
  {
   "cell_type": "markdown",
   "metadata": {},
   "source": [
    "### Способи створення наборів даних\n",
    "- дані методи генерують послідовності з певним кроком\n",
    "\n",
    "#### Термінологія\n",
    "- numpy в основному працює з так званими масивами\n",
    "- масиви бувають одно та багатовимірні\n",
    "- одновимірні масиви ще називаються векторами\n",
    "- двовимірний масив називається матрицею"
   ]
  },
  {
   "cell_type": "code",
   "execution_count": null,
   "metadata": {},
   "outputs": [],
   "source": [
    "x = list(range(12))\n",
    "print(x)\n",
    "y = np.arange(1, 12) # по замовчуванню крок = 1\n",
    "print(y)\n",
    "y = np.arange(1, 12, 2)\n",
    "print(y)"
   ]
  },
  {
   "cell_type": "code",
   "execution_count": null,
   "metadata": {},
   "outputs": [],
   "source": [
    "x = np.arange(-10, 10, 0.5)\n",
    "y = x**2 * np.cos(x)\n",
    "y\n",
    "\n",
    "import matplotlib.pyplot as plt\n",
    "\n",
    "plt.plot(x, y)\n",
    "plt.show()"
   ]
  },
  {
   "cell_type": "code",
   "execution_count": null,
   "metadata": {},
   "outputs": [],
   "source": [
    "s = np.arange(1, 13)\n",
    "print(\"Одновимірний вектор має вимірів:\", s.ndim, len(s))\n",
    "\n",
    "d = s.reshape(3,4)\n",
    "print(\"Двовимірний масив, це матриця і має вимірів:\", d.ndim)"
   ]
  },
  {
   "cell_type": "markdown",
   "metadata": {},
   "source": [
    "### Вимірність numpy масивів\n",
    "- одновимірні масиви називаються скалярами\n",
    "- одновимірний масив з багатьому елементами називається вектором\n",
    "- двовимірний масив називається матрицею\n",
    "\n",
    "крім вимірності (ndim) є ще поняття форми (shape)"
   ]
  },
  {
   "cell_type": "code",
   "execution_count": null,
   "metadata": {},
   "outputs": [],
   "source": [
    "sk = np.array([0])\n",
    "print(f\"Вимірність: {sk.ndim}, Форма: {sk.shape}\")\n",
    "\n",
    "vk = np.array([1, 4, 6])\n",
    "print(f\"Вимірність: {vk.ndim}, Форма: {vk.shape}\")\n",
    "\n",
    "mt1 = np.array([[0], [1]])\n",
    "mt2 = np.array([[0, 9], [1, 3]])\n",
    "mt3 = np.array([[0, 1, 2], [1, 0, 1]])\n",
    "print(mt1.ndim, mt2.ndim, mt3.ndim)\n",
    "print(mt1)\n",
    "print(f\"Вимірність: {mt1.ndim}, Форма: {mt1.shape}\")\n",
    "\n",
    "nv = np.array([[[1,2], [3,4], [5,6]], [[7,8], [9,0], [11,12]]])\n",
    "print(nv)\n",
    "print(f\"Вимірність: {nv.ndim}, Форма: {nv.shape}\")\n"
   ]
  },
  {
   "cell_type": "markdown",
   "metadata": {},
   "source": [
    "### Індексування та зрізи"
   ]
  },
  {
   "cell_type": "code",
   "execution_count": null,
   "metadata": {},
   "outputs": [],
   "source": [
    "test = np.arange(9)\n",
    "reversed_test = test[::-1]\n",
    "nv = reversed_test.reshape(3,3)\n",
    "\n",
    "print(test, reversed_test)\n",
    "\n",
    "print(f\"для доступу по індексах, просто вказуємо індекс: {test[0]}, {reversed_test[0]}\")\n",
    "print(f\"\"\"\n",
    "для доступу по зрізах, вказує звідки і до куди потрібно зрізати: \n",
    "{test[:]}\n",
    "{test[:4]}\n",
    "{test[-1:-4:-1]}\n",
    "{test[2:6]}\n",
    "\n",
    "{nv}\n",
    "\n",
    "Правий верхній кут: {nv[0,2]}\n",
    "Нижній лівий кут: {nv[2, 0]}\n",
    "Зріз стовпця, берем середній: {nv[:, 1]} \n",
    "Зріз рядка, берем останній: {nv[2, :]}\n",
    "\n",
    "Зрізаємо підматрицю, верхня права: {nv[0:2, 1:]}\n",
    "\"\"\")"
   ]
  },
  {
   "cell_type": "code",
   "execution_count": null,
   "metadata": {},
   "outputs": [],
   "source": [
    "test = np.arange(25).reshape(5,5)\n",
    "print(f\"\"\"\n",
    "{test}\n",
    "Витягуємо внутрішню матрицю 3х3:\n",
    "{test[1:4, 1:4]}\n",
    "\n",
    "{test[::2, ::3]}\n",
    "\"\"\")"
   ]
  },
  {
   "cell_type": "markdown",
   "metadata": {},
   "source": [
    "### Різниця між методами arange та linspace"
   ]
  },
  {
   "cell_type": "code",
   "execution_count": null,
   "metadata": {},
   "outputs": [],
   "source": [
    "a = np.arange(0, 10)\n",
    "l = np.linspace(0, 9, num=9)\n",
    "\n",
    "print(f\"\"\"\n",
    "Метод arange дасть: {a}\n",
    "Метод linspace дасть: {l}\n",
    "      \"\"\")"
   ]
  },
  {
   "cell_type": "markdown",
   "metadata": {},
   "source": [
    "розгладаємо як буде виглядати використання методів arange та linspace при побудові графіків"
   ]
  },
  {
   "cell_type": "code",
   "execution_count": null,
   "metadata": {},
   "outputs": [],
   "source": [
    "import matplotlib.pyplot as plt\n",
    "\n",
    "fig, (ax1, ax2, ax3) = plt.subplots(1,3)\n",
    "\n",
    "ax1.set_title(\"Досліджуємо arange\")\n",
    "ax1.set_xlabel(\"X\")\n",
    "ax1.set_ylabel(\"Значення функції\")\n",
    "\n",
    "ax2.set_title(\"Досліджуємо linspace\")\n",
    "ax2.set_xlabel(\"X\")\n",
    "ax2.set_ylabel(\"Значення функції\")\n",
    "\n",
    "ax3.set_title(\"Випадкові коливання\")\n",
    "ax3.set_xlabel(\"X\")\n",
    "ax3.set_ylabel(\"Рандом\")\n",
    "\n",
    "xa = np.arange(-10, 10) # тут можна коригувати крок, дефолтний = 1\n",
    "print(f\"Для методу arange згенерували: {xa.size} точок\")\n",
    "ya = xa**2 * np.cos(xa)\n",
    "\n",
    "#####\n",
    "xl = np.linspace(-10, 10, 100)  # 50 значень, можемо коригувати кількість\n",
    "print(f\"Для методу linspace згенерували: {xl.size} точок\")\n",
    "yl = xl**2 * np.cos(xl)\n",
    "\n",
    "#####\n",
    "xr = np.linspace(-10,10)\n",
    "yr = np.random.normal(0, 0.5, 50).round(4)\n",
    "print(f\"Згенеровані випадкові значення, max: {yr.max()}, min: {yr.min()}\")\n",
    "\n",
    "ax1.plot(xa, ya, color=\"red\")\n",
    "ax1.scatter(xa, ya, color='blue', marker='x') \n",
    "\n",
    "ax2.plot(xl, yl, color=\"black\")\n",
    "ax2.scatter(xl, yl, color='green', marker='v') \n",
    "\n",
    "ax3.plot(xr, yr, color=\"black\")\n",
    "ax3.scatter(xr, yr, color='green', marker='v') \n",
    "\n",
    "plt.tight_layout()\n",
    "plt.show()"
   ]
  },
  {
   "cell_type": "markdown",
   "metadata": {},
   "source": [
    " ### приклад продажу товарів за місяць\n",
    " "
   ]
  },
  {
   "cell_type": "code",
   "execution_count": null,
   "metadata": {},
   "outputs": [],
   "source": [
    "d = np.arange(1, 32)\n",
    "\n",
    "base_sales = np.random.normal(10, 2, size=d.size).round(0)\n",
    "base_sales\n",
    "\n",
    "plt.plot(d, base_sales, color=\"green\")\n",
    "plt.scatter(d, base_sales, marker=\"o\")\n",
    "plt.fill_between(d, base_sales, 10, where=(base_sales > 10), color='orange', label=\"Продажі успішні\")\n",
    "plt.fill_between(d, base_sales, 10, where=(base_sales < 10), color='red', label=\"Продажі впали\")\n",
    "\n",
    "\n",
    "plt.title(\"Кількість продажів за Жовтень\")\n",
    "plt.xlabel(\"День місяця\")\n",
    "plt.ylabel(\"Кількість проданих товарів\")\n",
    "plt.legend()\n",
    "plt.grid()\n",
    "plt.show()\n"
   ]
  },
  {
   "cell_type": "markdown",
   "metadata": {},
   "source": [
    "### Однорідні масиви та структуровані дані\n",
    "- можна працювати з одноріними даними які представляють собою набір цифр а можна додати значення тим цифрам з якими ми працюємо\n",
    "\n",
    "Приклад\n",
    "- нам потрібно земулювати гру в якій є шахта яка виробляє залізну руда\n",
    "1. ми можемо просто задити дані які ми будемо вважати за виробництво руди\n",
    "2. ми можемо структуризувати дані які будуть чітко вказувати що виробляє шахта"
   ]
  },
  {
   "cell_type": "code",
   "execution_count": null,
   "metadata": {},
   "outputs": [],
   "source": [
    "def produce_resource(reusource_type: np.array):\n",
    "    \"\"\"Це шахта яка виробляє залізну руду\n",
    "    \"\"\"\n",
    "    return np.append(reusource_type, [np.random.randint(1, 4)])\n",
    "\n",
    "start_resources = np.array([])\n",
    "\n",
    "for day in range(30):\n",
    "    resource_storage = produce_resource(start_resources)\n",
    "    print(resource_storage)\n",
    "    start_resources = resource_storage\n",
    "\n",
    "print(f\"За місяць накопичилось руди : {resource_storage.sum()}\")"
   ]
  },
  {
   "cell_type": "markdown",
   "metadata": {},
   "source": [
    "поки ми працювали просто з ислами яким надали певну інтерпретацію, але ми можемо самостійно визначити тип даних який вже буду вказувати з чим ми працюємо"
   ]
  },
  {
   "cell_type": "code",
   "execution_count": 38,
   "metadata": {},
   "outputs": [
    {
     "name": "stdout",
     "output_type": "stream",
     "text": [
      "День 0: Ресурси в сховищі: [('Iron', 0)]\n",
      "День 1: Ресурси в сховищі: [('Iron', 0) ('Copper', 0)]\n",
      "Виробляємо залізну руду\n",
      "Виробляємо мідну руду\n",
      "День 2: Ресурси в сховищі: [('Iron', 6) ('Copper', 0)]\n",
      "Виробляємо залізну руду\n",
      "Виробляємо мідну руду\n",
      "День 3: Ресурси в сховищі: [('Iron', 10) ('Copper',  0)]\n",
      "Виробляємо залізну руду\n",
      "Виробляємо мідну руду\n",
      "День 4: Ресурси в сховищі: [('Iron', 10) ('Copper',  4)]\n",
      "Виробляємо залізну руду\n",
      "Виробляємо мідну руду\n",
      "День 5: Ресурси в сховищі: [('Iron', 14) ('Copper',  4)]\n",
      "Виробляємо залізну руду\n",
      "Виробляємо мідну руду\n",
      "День 6: Ресурси в сховищі: [('Iron', 17) ('Copper',  4)]\n",
      "Виробляємо залізну руду\n",
      "Виробляємо мідну руду\n",
      "День 7: Ресурси в сховищі: [('Iron', 17) ('Copper', 10)]\n",
      "Виробляємо залізну руду\n",
      "Виробляємо мідну руду\n",
      "День 8: Ресурси в сховищі: [('Iron', 17) ('Copper', 14)]\n",
      "Виробляємо залізну руду\n",
      "Виробляємо мідну руду\n",
      "День 9: Ресурси в сховищі: [('Iron', 21) ('Copper', 14)]\n",
      "Виробляємо залізну руду\n",
      "Виробляємо мідну руду\n",
      "День 10: Ресурси в сховищі: [('Iron', 21) ('Copper', 19)]\n",
      "Виробляємо залізну руду\n",
      "Виробляємо мідну руду\n",
      "День 11: Ресурси в сховищі: [('Iron', 21) ('Copper', 21)]\n",
      "Виробляємо залізну руду\n",
      "Виробляємо мідну руду\n",
      "День 12: Ресурси в сховищі: [('Iron', 27) ('Copper', 21)]\n",
      "Виробляємо залізну руду\n",
      "Виробляємо мідну руду\n",
      "День 13: Ресурси в сховищі: [('Iron', 27) ('Copper', 24)]\n",
      "Виробляємо залізну руду\n",
      "Виробляємо мідну руду\n",
      "День 14: Ресурси в сховищі: [('Iron', 27) ('Copper', 28)]\n",
      "Виробляємо залізну руду\n",
      "Виробляємо мідну руду\n",
      "День 15: Ресурси в сховищі: [('Iron', 27) ('Copper', 32)]\n",
      "Виробляємо залізну руду\n",
      "Виробляємо мідну руду\n",
      "День 16: Ресурси в сховищі: [('Iron', 30) ('Copper', 32)]\n",
      "Виробляємо залізну руду\n",
      "Виробляємо мідну руду\n",
      "День 17: Ресурси в сховищі: [('Iron', 35) ('Copper', 32)]\n",
      "Виробляємо залізну руду\n",
      "Виробляємо мідну руду\n",
      "День 18: Ресурси в сховищі: [('Iron', 39) ('Copper', 32)]\n",
      "Виробляємо залізну руду\n",
      "Виробляємо мідну руду\n",
      "День 19: Ресурси в сховищі: [('Iron', 39) ('Copper', 35)]\n",
      "Виробляємо залізну руду\n",
      "Виробляємо мідну руду\n",
      "День 20: Ресурси в сховищі: [('Iron', 42) ('Copper', 35)]\n",
      "Виробляємо залізну руду\n",
      "Виробляємо мідну руду\n",
      "День 21: Ресурси в сховищі: [('Iron', 45) ('Copper', 35)]\n",
      "Виробляємо залізну руду\n",
      "Виробляємо мідну руду\n",
      "День 22: Ресурси в сховищі: [('Iron', 45) ('Copper', 41)]\n",
      "Виробляємо залізну руду\n",
      "Виробляємо мідну руду\n",
      "День 23: Ресурси в сховищі: [('Iron', 50) ('Copper', 41)]\n",
      "Виробляємо залізну руду\n",
      "Виробляємо мідну руду\n",
      "День 24: Ресурси в сховищі: [('Iron', 50) ('Copper', 44)]\n",
      "Виробляємо залізну руду\n",
      "Виробляємо мідну руду\n",
      "День 25: Ресурси в сховищі: [('Iron', 53) ('Copper', 44)]\n",
      "Виробляємо залізну руду\n",
      "Виробляємо мідну руду\n",
      "День 26: Ресурси в сховищі: [('Iron', 56) ('Copper', 44)]\n",
      "Виробляємо залізну руду\n",
      "Виробляємо мідну руду\n",
      "День 27: Ресурси в сховищі: [('Iron', 56) ('Copper', 50)]\n",
      "Виробляємо залізну руду\n",
      "Виробляємо мідну руду\n",
      "День 28: Ресурси в сховищі: [('Iron', 62) ('Copper', 50)]\n",
      "Виробляємо залізну руду\n",
      "Виробляємо мідну руду\n",
      "День 29: Ресурси в сховищі: [('Iron', 62) ('Copper', 55)]\n",
      "За місяць накопичилось руди : Iron 62\n",
      "За місяць накопичилось руди : Copper 55\n"
     ]
    }
   ],
   "source": [
    "#                  Назва поля      його тип його довжина\n",
    "ore = np.dtype([(\"resource_name\", np.str_, 16), (\"amount\", np.int_)])\n",
    "\n",
    "def mine_production(resources: np.array):\n",
    "    \"\"\"Шахта має сортувати руду яку виробляє\n",
    "    \"\"\"\n",
    "    if len(resources) == 0:\n",
    "        return np.array([('Iron', 0)], dtype=ore)\n",
    "    if len(resources) == 1:\n",
    "        return np.append(resources, np.array([('Copper', 0)], dtype=ore))\n",
    "    \n",
    "    p = np.random.choice(['Iron', 'Copper'])\n",
    "    for res in resources:\n",
    "        if res[\"resource_name\"] == p:\n",
    "            print(\"Виробляємо залізну руду\")\n",
    "            res[\"amount\"] += np.random.randint(1, 4)\n",
    "        if res[\"resource_name\"] == p:\n",
    "            print(\"Виробляємо мідну руду\")\n",
    "            res[\"amount\"] += np.random.randint(1, 4)\n",
    "    \n",
    "    return resources\n",
    "\n",
    "#start_resources = np.array([(np.random.choice(['Iron', 'Copper']), np.random.randint(1, 4))], dtype=ore)\n",
    "start_resources = np.array([], dtype=ore)\n",
    "\n",
    "for day in range(30):\n",
    "    resource_storage = mine_production(start_resources)\n",
    "    print(f\"День {day}: Ресурси в сховищі: {resource_storage}\")\n",
    "    start_resources = resource_storage\n",
    "\n",
    "for ore_type in resource_storage:\n",
    "    print(f\"За місяць накопичилось руди : {ore_type[\"resource_name\"]} {ore_type[\"amount\"].sum()}\")\n"
   ]
  }
 ],
 "metadata": {
  "kernelspec": {
   "display_name": "Python 3",
   "language": "python",
   "name": "python3"
  },
  "language_info": {
   "codemirror_mode": {
    "name": "ipython",
    "version": 3
   },
   "file_extension": ".py",
   "mimetype": "text/x-python",
   "name": "python",
   "nbconvert_exporter": "python",
   "pygments_lexer": "ipython3",
   "version": "3.12.3"
  }
 },
 "nbformat": 4,
 "nbformat_minor": 2
}
