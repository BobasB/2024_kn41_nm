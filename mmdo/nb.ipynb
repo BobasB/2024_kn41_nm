{
 "cells": [
  {
   "cell_type": "code",
   "execution_count": 2,
   "metadata": {},
   "outputs": [],
   "source": [
    "from scipy.optimize import linprog\n",
    "import numpy as np"
   ]
  },
  {
   "cell_type": "markdown",
   "metadata": {},
   "source": [
    "ми граємо в економічну гру\n",
    "\n",
    "наша мета заробити золоті монети на продажі товарів, обмежуємось двама товарами, Міфрилом та Оріхалкумом\n",
    "\n",
    "Наші обмеження, ми маємо лише 100 золотих монет, ми маємо сумку на 20 слотів\n",
    "\n",
    "Вартість Міфриму = 5 золотих і він займає 0.5 і ми можемо його продати за 6 золотих\n",
    "Вартість Оріхалкуму = 7 золотих і він займає 1 і продати за 7.5\n",
    "\n",
    "кількість товару має бути більшої за 0"
   ]
  },
  {
   "cell_type": "code",
   "execution_count": 6,
   "metadata": {},
   "outputs": [
    {
     "ename": "ValueError",
     "evalue": "Invalid input for linprog: unable to interpret bounds with this dimension tuple: (3, 2).",
     "output_type": "error",
     "traceback": [
      "\u001b[31m---------------------------------------------------------------------------\u001b[39m",
      "\u001b[31mValueError\u001b[39m                                Traceback (most recent call last)",
      "\u001b[36mCell\u001b[39m\u001b[36m \u001b[39m\u001b[32mIn[6]\u001b[39m\u001b[32m, line 24\u001b[39m\n\u001b[32m     21\u001b[39m bnd = [(\u001b[32m0\u001b[39m, \u001b[38;5;28;01mNone\u001b[39;00m), (\u001b[32m0\u001b[39m, \u001b[38;5;28;01mNone\u001b[39;00m), (\u001b[32m0\u001b[39m, \u001b[38;5;28;01mNone\u001b[39;00m)]\n\u001b[32m     23\u001b[39m \u001b[38;5;66;03m# Знаходимо розвязки задачі\u001b[39;00m\n\u001b[32m---> \u001b[39m\u001b[32m24\u001b[39m res = \u001b[43mlinprog\u001b[49m\u001b[43m(\u001b[49m\u001b[43m-\u001b[49m\u001b[43mc\u001b[49m\u001b[43m,\u001b[49m\u001b[43m \u001b[49m\u001b[43mA_ub\u001b[49m\u001b[43m=\u001b[49m\u001b[43mA\u001b[49m\u001b[43m,\u001b[49m\u001b[43m \u001b[49m\u001b[43mb_ub\u001b[49m\u001b[43m=\u001b[49m\u001b[43mb\u001b[49m\u001b[43m,\u001b[49m\u001b[43m \u001b[49m\u001b[43mbounds\u001b[49m\u001b[43m=\u001b[49m\u001b[43mbnd\u001b[49m\u001b[43m)\u001b[49m\n\u001b[32m     26\u001b[39m \u001b[38;5;28mprint\u001b[39m(res)\n",
      "\u001b[36mFile \u001b[39m\u001b[32m~/.pyenv/versions/3.12.9/lib/python3.12/site-packages/scipy/optimize/_linprog.py:649\u001b[39m, in \u001b[36mlinprog\u001b[39m\u001b[34m(c, A_ub, b_ub, A_eq, b_eq, bounds, method, callback, options, x0, integrality)\u001b[39m\n\u001b[32m    646\u001b[39m     integrality = \u001b[38;5;28;01mNone\u001b[39;00m\n\u001b[32m    648\u001b[39m lp = _LPProblem(c, A_ub, b_ub, A_eq, b_eq, bounds, x0, integrality)\n\u001b[32m--> \u001b[39m\u001b[32m649\u001b[39m lp, solver_options = \u001b[43m_parse_linprog\u001b[49m\u001b[43m(\u001b[49m\u001b[43mlp\u001b[49m\u001b[43m,\u001b[49m\u001b[43m \u001b[49m\u001b[43moptions\u001b[49m\u001b[43m,\u001b[49m\u001b[43m \u001b[49m\u001b[43mmeth\u001b[49m\u001b[43m)\u001b[49m\n\u001b[32m    650\u001b[39m tol = solver_options.get(\u001b[33m'\u001b[39m\u001b[33mtol\u001b[39m\u001b[33m'\u001b[39m, \u001b[32m1e-9\u001b[39m)\n\u001b[32m    652\u001b[39m \u001b[38;5;66;03m# Give unmodified problem to HiGHS\u001b[39;00m\n",
      "\u001b[36mFile \u001b[39m\u001b[32m~/.pyenv/versions/3.12.9/lib/python3.12/site-packages/scipy/optimize/_linprog_util.py:1026\u001b[39m, in \u001b[36m_parse_linprog\u001b[39m\u001b[34m(lp, options, meth)\u001b[39m\n\u001b[32m   1023\u001b[39m solver_options, A_ub, A_eq = _check_sparse_inputs(solver_options, meth,\n\u001b[32m   1024\u001b[39m                                                   lp.A_ub, lp.A_eq)\n\u001b[32m   1025\u001b[39m \u001b[38;5;66;03m# Convert lists to numpy arrays, etc...\u001b[39;00m\n\u001b[32m-> \u001b[39m\u001b[32m1026\u001b[39m lp = \u001b[43m_clean_inputs\u001b[49m\u001b[43m(\u001b[49m\u001b[43mlp\u001b[49m\u001b[43m.\u001b[49m\u001b[43m_replace\u001b[49m\u001b[43m(\u001b[49m\u001b[43mA_ub\u001b[49m\u001b[43m=\u001b[49m\u001b[43mA_ub\u001b[49m\u001b[43m,\u001b[49m\u001b[43m \u001b[49m\u001b[43mA_eq\u001b[49m\u001b[43m=\u001b[49m\u001b[43mA_eq\u001b[49m\u001b[43m)\u001b[49m\u001b[43m)\u001b[49m\n\u001b[32m   1027\u001b[39m \u001b[38;5;28;01mreturn\u001b[39;00m lp, solver_options\n",
      "\u001b[36mFile \u001b[39m\u001b[32m~/.pyenv/versions/3.12.9/lib/python3.12/site-packages/scipy/optimize/_linprog_util.py:462\u001b[39m, in \u001b[36m_clean_inputs\u001b[39m\u001b[34m(lp)\u001b[39m\n\u001b[32m    458\u001b[39m     \u001b[38;5;28;01mraise\u001b[39;00m \u001b[38;5;167;01mValueError\u001b[39;00m(\n\u001b[32m    459\u001b[39m         \u001b[33mf\u001b[39m\u001b[33m\"\u001b[39m\u001b[33mInvalid input for linprog: provide a \u001b[39m\u001b[38;5;132;01m{\u001b[39;00mn_x\u001b[38;5;132;01m:\u001b[39;00m\u001b[33md\u001b[39m\u001b[38;5;132;01m}\u001b[39;00m\u001b[33m x 2 array for bounds, \u001b[39m\u001b[33m\"\u001b[39m\n\u001b[32m    460\u001b[39m         \u001b[33mf\u001b[39m\u001b[33m\"\u001b[39m\u001b[33mnot a 2 x \u001b[39m\u001b[38;5;132;01m{\u001b[39;00mn_x\u001b[38;5;132;01m:\u001b[39;00m\u001b[33md\u001b[39m\u001b[38;5;132;01m}\u001b[39;00m\u001b[33m array.\u001b[39m\u001b[33m\"\u001b[39m)\n\u001b[32m    461\u001b[39m \u001b[38;5;28;01melse\u001b[39;00m:\n\u001b[32m--> \u001b[39m\u001b[32m462\u001b[39m     \u001b[38;5;28;01mraise\u001b[39;00m \u001b[38;5;167;01mValueError\u001b[39;00m(\n\u001b[32m    463\u001b[39m         \u001b[33m\"\u001b[39m\u001b[33mInvalid input for linprog: unable to interpret bounds with this \u001b[39m\u001b[33m\"\u001b[39m\n\u001b[32m    464\u001b[39m         \u001b[33mf\u001b[39m\u001b[33m\"\u001b[39m\u001b[33mdimension tuple: \u001b[39m\u001b[38;5;132;01m{\u001b[39;00mbsh\u001b[38;5;132;01m}\u001b[39;00m\u001b[33m.\u001b[39m\u001b[33m\"\u001b[39m)\n\u001b[32m    466\u001b[39m \u001b[38;5;66;03m# The process above creates nan-s where the input specified None\u001b[39;00m\n\u001b[32m    467\u001b[39m \u001b[38;5;66;03m# Convert the nan-s in the 1st column to -np.inf and in the 2nd column\u001b[39;00m\n\u001b[32m    468\u001b[39m \u001b[38;5;66;03m# to np.inf\u001b[39;00m\n\u001b[32m    469\u001b[39m i_none = np.isnan(bounds_clean[:, \u001b[32m0\u001b[39m])\n",
      "\u001b[31mValueError\u001b[39m: Invalid input for linprog: unable to interpret bounds with this dimension tuple: (3, 2)."
     ]
    }
   ],
   "source": [
    "# m - кількість міфрил\n",
    "# o - кількість оріхалкуму\n",
    "\n",
    "# Цільова функція\n",
    "# max m * Заробіток від міфриму + o * заробіток від оріхалкуму\n",
    "c = np.array([\n",
    "    [6-5, 7.5-7] # цільова функція\n",
    "])\n",
    "\n",
    "# Формулюємо умови\n",
    "# m * Варітсть + o * Вартість <= 100\n",
    "# m * Місце в сумці + o * Місце в сумці <= 20\n",
    "A = (\n",
    "    [5, 7], # умова вартості\n",
    "    [0.5, 1] # умова містксті\n",
    ")\n",
    "# рядок результатів умов\n",
    "b = np.array([[100], [20]])\n",
    "\n",
    "# Записуємо вектор обмежень області значень\n",
    "bnd = [(0, None), (0, None), (0, None)]\n",
    "\n",
    "# Знаходимо розвязки задачі\n",
    "res = linprog(-c, A_ub=A, b_ub=b, bounds=bnd)\n",
    "\n",
    "print(res)"
   ]
  },
  {
   "cell_type": "code",
   "execution_count": null,
   "metadata": {},
   "outputs": [],
   "source": []
  }
 ],
 "metadata": {
  "kernelspec": {
   "display_name": "Python 3",
   "language": "python",
   "name": "python3"
  },
  "language_info": {
   "codemirror_mode": {
    "name": "ipython",
    "version": 3
   },
   "file_extension": ".py",
   "mimetype": "text/x-python",
   "name": "python",
   "nbconvert_exporter": "python",
   "pygments_lexer": "ipython3",
   "version": "3.12.9"
  }
 },
 "nbformat": 4,
 "nbformat_minor": 2
}
