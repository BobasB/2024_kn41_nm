{
 "cells": [
  {
   "cell_type": "markdown",
   "metadata": {},
   "source": [
    "# Починаємо програмувати на Пайтон\n",
    "## Типи змінних у Пайтон\n",
    "- стрічкові змінні\n",
    "- попрацювали з функцією `print`\n",
    "- видалили змінну\n",
    "- отримали помилку\n",
    "- написали коментар"
   ]
  },
  {
   "cell_type": "code",
   "execution_count": 1,
   "metadata": {},
   "outputs": [
    {
     "name": "stdout",
     "output_type": "stream",
     "text": [
      "Це буде стрічка яка присвоєна у змінну Це також буде стрічка\n",
      "<class 'str'>\n",
      "Це ніколи не буде виведено\n"
     ]
    }
   ],
   "source": [
    "a = \"Це буде стрічка яка присвоєна у змінну\"\n",
    "b = 'Це також буде стрічка'\n",
    "\n",
    "print(a, b)\n",
    "\n",
    "c_a_b = \"This is string\"\n",
    "\n",
    "t = type(c_a_b)\n",
    "\n",
    "print(t)\n",
    "\n",
    "del c_a_b\n",
    "\n",
    "#print(c_a_b) # це коментар, ця стрічка завжди видає помилку\n",
    "# TODO: це коментар щоб паямтати що цей код не працює та його треба пофіксити\n",
    "\n",
    "print(\"Це ніколи не буде виведено\")"
   ]
  },
  {
   "cell_type": "markdown",
   "metadata": {},
   "source": [
    "### Це помилка яку нам має видавати попередня клітинка якщо ми розкоментуємо код з помилкою\n",
    "```python\n",
    "---------------------------------------------------------------------------\n",
    "NameError                                 Traceback (most recent call last)\n",
    "Cell In[1], line 14\n",
    "     10 print(t)\n",
    "     12 del c_a_b\n",
    "---> 14 print(c_a_b) # це коментар, ця стрічка завжди видає помилку\n",
    "     15 # TODO: це коментар щоб паямтати що цей код не працює та його треба пофіксити\n",
    "     17 print(\"Це ніколи не буде виведено\")\n",
    "\n",
    "NameError: name 'c_a_b' is not defined\n",
    "```"
   ]
  },
  {
   "cell_type": "markdown",
   "metadata": {},
   "source": [
    "- числові змінні\n",
    "- цілі та числа з плаваючою крапкою\n",
    "- подивились які імена можуть бути використані для зміних"
   ]
  },
  {
   "cell_type": "code",
   "execution_count": 2,
   "metadata": {},
   "outputs": [
    {
     "name": "stdout",
     "output_type": "stream",
     "text": [
      "<class 'int'>\n",
      "2.0 <class 'float'>\n",
      "3.0 <class 'float'>\n"
     ]
    }
   ],
   "source": [
    "c_a_b = 1\n",
    "\n",
    "print(type(c_a_b))\n",
    "\n",
    "_ = 2.0\n",
    "print(_, type(_))\n",
    "\n",
    "n_b = 3.0\n",
    "print(n_b, type(n_b))"
   ]
  },
  {
   "cell_type": "code",
   "execution_count": 3,
   "metadata": {},
   "outputs": [
    {
     "data": {
      "text/plain": [
       "33"
      ]
     },
     "execution_count": 3,
     "metadata": {},
     "output_type": "execute_result"
    }
   ],
   "source": [
    "n = 23\n",
    "n # це не буде виведено як вивід комірки\n",
    "m = 33\n",
    "m # а це вже буде навіть якщо ми не задали функцію `print`"
   ]
  },
  {
   "cell_type": "markdown",
   "metadata": {},
   "source": [
    "### Втуп до арифметичних операцій\n",
    "- дадавання двох чисел"
   ]
  },
  {
   "cell_type": "code",
   "execution_count": 4,
   "metadata": {},
   "outputs": [
    {
     "data": {
      "text/plain": [
       "56"
      ]
     },
     "execution_count": 4,
     "metadata": {},
     "output_type": "execute_result"
    }
   ],
   "source": [
    "n+m"
   ]
  },
  {
   "cell_type": "code",
   "execution_count": 5,
   "metadata": {},
   "outputs": [
    {
     "data": {
      "text/plain": [
       "56"
      ]
     },
     "execution_count": 5,
     "metadata": {},
     "output_type": "execute_result"
    }
   ],
   "source": [
    "r = n + m\n",
    "r"
   ]
  },
  {
   "cell_type": "code",
   "execution_count": 6,
   "metadata": {},
   "outputs": [
    {
     "name": "stdout",
     "output_type": "stream",
     "text": [
      "Результат додовання = 56\n"
     ]
    }
   ],
   "source": [
    "print(\"Результат додовання =\", n+m)"
   ]
  },
  {
   "cell_type": "code",
   "execution_count": 7,
   "metadata": {},
   "outputs": [
    {
     "name": "stdout",
     "output_type": "stream",
     "text": [
      "Це буде стрічка яка присвоєна у зміннуЦе також буде стрічка\n",
      "Це початок 3.0 _V_ Це буде стрічка яка присвоєна у змінну Це завершення\n"
     ]
    }
   ],
   "source": [
    "print(a + b)\n",
    "# Це приклад КОНКАТЕНАЦІЇ \n",
    "print(\"Це початок \" + str(n_b) + \" _V_ \" + a + ' Це завершення')"
   ]
  },
  {
   "cell_type": "code",
   "execution_count": 8,
   "metadata": {},
   "outputs": [
    {
     "name": "stdout",
     "output_type": "stream",
     "text": [
      "56 56\n",
      "-10\n"
     ]
    }
   ],
   "source": [
    "c = n + m\n",
    "d = n.__add__(m)\n",
    "print(c, d)\n",
    "f = n.__sub__(m)\n",
    "print(f)\n",
    "\n",
    "s = \"Ми не можемо \"\n",
    "ss = \"відмнімати стрічки\"\n",
    "#s.__sub__()"
   ]
  },
  {
   "cell_type": "markdown",
   "metadata": {},
   "source": [
    "### Колекції даних\n",
    "- списки - `List`\n",
    "- словники - `Dict`"
   ]
  },
  {
   "cell_type": "code",
   "execution_count": 9,
   "metadata": {},
   "outputs": [
    {
     "name": "stdout",
     "output_type": "stream",
     "text": [
      "['a', 'a'] ['1', 1, 2]\n"
     ]
    }
   ],
   "source": [
    "a = \"a\"\n",
    "l = [a, 'a']\n",
    "one = \"1\"\n",
    "one_1 = 1\n",
    "ll = list([one, one_1, 1+one_1])\n",
    "print(l, ll)"
   ]
  },
  {
   "cell_type": "code",
   "execution_count": 10,
   "metadata": {},
   "outputs": [
    {
     "name": "stdout",
     "output_type": "stream",
     "text": [
      "[['a', 'a'], 'a', ['1', 1, 2], ['Це стрічка у списку']]\n"
     ]
    }
   ],
   "source": [
    "l2 = [l, a, ll, [\"Це стрічка у списку\"]]\n",
    "print(l2)"
   ]
  },
  {
   "cell_type": "markdown",
   "metadata": {},
   "source": [
    "- У списку завжди є впорядковані дані, які можуть повторюватись\n",
    "- списки починаються з 0\n",
    "- можемо використовувати негативні індекси для доступу з кінця списку"
   ]
  },
  {
   "cell_type": "code",
   "execution_count": 11,
   "metadata": {},
   "outputs": [
    {
     "name": "stdout",
     "output_type": "stream",
     "text": [
      "['a', 'a']\n",
      "['Це стрічка у списку']\n"
     ]
    }
   ],
   "source": [
    "print(l2[0])\n",
    "print(l2[-1])"
   ]
  },
  {
   "cell_type": "code",
   "execution_count": 12,
   "metadata": {},
   "outputs": [
    {
     "name": "stdout",
     "output_type": "stream",
     "text": [
      "[1, 2, 3, 4, 9]\n",
      "Хочемо видалити елемент на позиції 0, яким буде:  1\n",
      "[2, 3, 4, 9]\n"
     ]
    }
   ],
   "source": [
    "l3 = [1,2,3,4]\n",
    "l3.append(9)\n",
    "print(l3)\n",
    "print(\"Хочемо видалити елемент на позиції 0, яким буде: \", l3[0])\n",
    "l3.pop(0)\n",
    "print(l3)"
   ]
  },
  {
   "cell_type": "code",
   "execution_count": 13,
   "metadata": {},
   "outputs": [
    {
     "name": "stdout",
     "output_type": "stream",
     "text": [
      "Зараз у списку є:  1 А довжина даного списку буде:  7\n"
     ]
    }
   ],
   "source": [
    "l3.append(6)\n",
    "l3.append(6)\n",
    "l3.append(7)\n",
    "l3.append(7)\n",
    "l3.remove(6)\n",
    "print(\"Зараз у списку є: \", l3.count(6), \"А довжина даного списку буде: \", len(l3))"
   ]
  },
  {
   "cell_type": "code",
   "execution_count": 14,
   "metadata": {},
   "outputs": [
    {
     "name": "stdout",
     "output_type": "stream",
     "text": [
      "[1, 2, 3, 4]\n"
     ]
    }
   ],
   "source": [
    "l1 = [1, 2]\n",
    "l2 = [3, 4]\n",
    "print(l1+l2)\n",
    "# віднімати сиски неможна, буде помилка\n",
    "#print(l1-l2)"
   ]
  },
  {
   "cell_type": "markdown",
   "metadata": {},
   "source": [
    "### Словники\n",
    "- дані записані в колекцію з певним ключем\n",
    "- ключ словника має бути унікальним, але значення можуть повторюватись і занченнями можуть бути інші списки або словники"
   ]
  },
  {
   "cell_type": "code",
   "execution_count": 15,
   "metadata": {},
   "outputs": [
    {
     "name": "stdout",
     "output_type": "stream",
     "text": [
      "value\n",
      "key\n",
      "Ось словник повністю: {'key': 'value', 'value': 'key'}\n"
     ]
    }
   ],
   "source": [
    "d = {'key': 'value'}\n",
    "print(d['key'])\n",
    "\n",
    "##############\n",
    "\n",
    "key = 'value'\n",
    "d[key] = 'key'\n",
    "print(d['value'])\n",
    "\n",
    "print(\"Ось словник повністю:\", d)"
   ]
  },
  {
   "cell_type": "code",
   "execution_count": 16,
   "metadata": {},
   "outputs": [
    {
     "name": "stdout",
     "output_type": "stream",
     "text": [
      "[1, 2]\n"
     ]
    }
   ],
   "source": [
    "dd = {\"a\": 1, \"a\": 2}\n",
    "dd\n",
    "\n",
    "d2 = {\"a\": 1, \"b\": 1, \"c\": [1,2]}\n",
    "print(d2['c'])"
   ]
  },
  {
   "cell_type": "markdown",
   "metadata": {},
   "source": [
    "- розглядаємо Tuple\n",
    "- Tuple є immutable - тобто його не можна змінювати після створення\n",
    "- використовуються найчастіше щоб зберігати якісь константи"
   ]
  },
  {
   "cell_type": "code",
   "execution_count": 17,
   "metadata": {},
   "outputs": [
    {
     "name": "stdout",
     "output_type": "stream",
     "text": [
      "Список:  1 Тюпл:  1\n",
      "[1, 2, 3, 4]\n",
      "Можни перетворити List -> Tuple (1, 2, 3, 4)\n"
     ]
    }
   ],
   "source": [
    "l = [1, 2, 3]\n",
    "t = (1, 2, 3)\n",
    "\n",
    "print(\"Список: \", l[0], \"Тюпл: \", t[0])\n",
    "l.append(4)\n",
    "print(l)\n",
    "print(\"Можни перетворити List -> Tuple\", tuple(l))"
   ]
  },
  {
   "cell_type": "markdown",
   "metadata": {},
   "source": [
    "- розглядаємо Set\n",
    "- в такій колекції містяться унікальні обєкти (не повторюватись)\n",
    "- невпорядкована колекція (неможливо витягувати елементи за їх індексами)"
   ]
  },
  {
   "cell_type": "code",
   "execution_count": 18,
   "metadata": {},
   "outputs": [
    {
     "name": "stdout",
     "output_type": "stream",
     "text": [
      "{1, 2, 3}\n",
      "Витягуємо елемент 1\n",
      "Сет зменшився на один елемент {2, 3}\n",
      "True\n"
     ]
    },
    {
     "data": {
      "text/plain": [
       "{1}"
      ]
     },
     "execution_count": 18,
     "metadata": {},
     "output_type": "execute_result"
    }
   ],
   "source": [
    "l = [1, 2, 3, 1, 3, 2]\n",
    "# як зробити щоб залишились тільки унікальні елементи\n",
    "s = set(l)\n",
    "print(s)\n",
    "print(\"Витягуємо елемент\", s.pop())\n",
    "print(\"Сет зменшився на один елемент\", s)\n",
    "# У сетах можуть бути елементи у яких не співпадають hash\n",
    "a = 1\n",
    "a.__hash__()\n",
    "b = 1\n",
    "print(a.__hash__() == b.__hash__())\n",
    "ss = {a, b}\n",
    "ss"
   ]
  },
  {
   "cell_type": "markdown",
   "metadata": {},
   "source": [
    "## трохи більше про вивід\n",
    "- розглядаємо функцію print та як можна форматувати вивід"
   ]
  },
  {
   "cell_type": "code",
   "execution_count": 19,
   "metadata": {},
   "outputs": [
    {
     "name": "stdout",
     "output_type": "stream",
     "text": [
      "Це буде вивидитись\n",
      "Це буде вивидитись 1 Вивід після вставки\n"
     ]
    }
   ],
   "source": [
    "# Спочатку формується текст виводу а потім прінтиться\n",
    "a = \"Це буде вивидитись\"\n",
    "print(a)\n",
    "b = \"Вивід після вставки\"\n",
    "print(a, 1, b)"
   ]
  },
  {
   "cell_type": "code",
   "execution_count": 20,
   "metadata": {},
   "outputs": [],
   "source": [
    "#l = input(\"Введіть своє імя: \")\n",
    "#print(\"Привіт \", l, \" Приємно познайомитись\")"
   ]
  },
  {
   "cell_type": "code",
   "execution_count": 21,
   "metadata": {},
   "outputs": [
    {
     "name": "stdout",
     "output_type": "stream",
     "text": [
      "Початок Це буде вставка! кінець !\n",
      "Початок кінець! Це буде вставка! А може не кінець!\n"
     ]
    }
   ],
   "source": [
    "v = \"Це буде вставка!\"\n",
    "a = \"Початок {} кінець {}\".format(v, \"!\")\n",
    "print(a)\n",
    "b = \"Початок {1} {0} А може не {1}\".format(v, \"кінець!\")\n",
    "print(b)"
   ]
  },
  {
   "cell_type": "code",
   "execution_count": 22,
   "metadata": {},
   "outputs": [
    {
     "name": "stdout",
     "output_type": "stream",
     "text": [
      "Текст та ЦЕ ВСТАВКА після вставки\n"
     ]
    }
   ],
   "source": [
    "a = \"ЦЕ ВСТАВКА\"\n",
    "s = f\"Текст та {a} після вставки\"\n",
    "print(s)"
   ]
  },
  {
   "cell_type": "code",
   "execution_count": 23,
   "metadata": {},
   "outputs": [
    {
     "name": "stdout",
     "output_type": "stream",
     "text": [
      "Один Два Три\n",
      "Один Два Три\n",
      "Один Два Три\n",
      "Один Два Три\n"
     ]
    }
   ],
   "source": [
    "a = \"Один\"\n",
    "b = \"Два\"\n",
    "c = \"Три\"\n",
    "\n",
    "print(a, b, c)\n",
    "print(a + \" \" + b + \" \" + c)\n",
    "print(\"{} {} {}\".format(a, b, c))\n",
    "print(f\"{a} {b} {c}\")"
   ]
  },
  {
   "cell_type": "markdown",
   "metadata": {},
   "source": [
    " ### Вбудовані константи та функції\n",
    " - неможна перевизначати константи"
   ]
  },
  {
   "cell_type": "code",
   "execution_count": 26,
   "metadata": {},
   "outputs": [
    {
     "name": "stdout",
     "output_type": "stream",
     "text": [
      "True\n",
      "\n",
      "None\n",
      "Тут відсутнє значення Це пуста стрічка\n",
      "[1, 3, 2, 4]\n",
      "Робимо сортування:  None \n",
      "Вигляд після сортування:  [1, 2, 3, 4]\n"
     ]
    }
   ],
   "source": [
    "false = False\n",
    "# змінні чутливі до регістру тому можна зробити подібну змінну\n",
    "print(false == False)\n",
    "\n",
    "a = \"\" # це не є відсутність значення\n",
    "print(a)\n",
    "\n",
    "def fun_name():\n",
    "    return\n",
    "\n",
    "print(fun_name())\n",
    "\n",
    "d = {\"ключ\": None, None: \"Тут відсутнє значення\", \"\": \"Це пуста стрічка\"}\n",
    "\n",
    "print(d[None], d[\"\"])\n",
    "\n",
    "l = [1, 3, 2, 4]\n",
    "print(l)\n",
    "print(\"Робимо сортування: \", l.sort(), \"\\nВигляд після сортування: \", l)"
   ]
  },
  {
   "cell_type": "markdown",
   "metadata": {},
   "source": [
    "- вбудовані функції можна використовувати зразу у Пайтон\n",
    "- а інші функції які знаходяться у бібліотеках потрібно спочатку імпортувати"
   ]
  },
  {
   "cell_type": "code",
   "execution_count": 29,
   "metadata": {},
   "outputs": [
    {
     "name": "stdout",
     "output_type": "stream",
     "text": [
      "3.141592653589793\n",
      "1.0\n"
     ]
    }
   ],
   "source": [
    "from math import cos, pi\n",
    "\n",
    "print(pi)\n",
    "print(cos(2 * pi))"
   ]
  },
  {
   "cell_type": "code",
   "execution_count": 36,
   "metadata": {},
   "outputs": [
    {
     "name": "stdout",
     "output_type": "stream",
     "text": [
      "Було введено 2, яке є типом <class 'int'>, і тепер можна додати 1 = 3\n"
     ]
    }
   ],
   "source": [
    "#i = int(input(\"Введіть число: \"))\n",
    "#print(f\"Було введено {i}, яке є типом {type(i)}, і тепер можна додати 1 = {i + 1}\")"
   ]
  },
  {
   "cell_type": "markdown",
   "metadata": {},
   "source": [
    "### Починаємо циклити\n",
    "- `for` та `while`\n",
    "- for - ітераційний цикл\n",
    "- while - умовний цикл - тут може бути проблема безкінецноо циклу\n",
    "- `break` використовується щоб перервати цикл"
   ]
  },
  {
   "cell_type": "code",
   "execution_count": 37,
   "metadata": {},
   "outputs": [
    {
     "name": "stdout",
     "output_type": "stream",
     "text": [
      "По ключу a буде виведено:  1\n",
      "По ключу b буде виведено:  1\n",
      "По ключу c буде виведено:  [1, 2]\n"
     ]
    }
   ],
   "source": [
    "for i in d2.keys():\n",
    "    print(f\"По ключу {i} буде виведено: \", d2[i])"
   ]
  },
  {
   "cell_type": "markdown",
   "metadata": {},
   "source": [
    "- спробуємо ітераційним методом знайти корені рівняння\n",
    "- x**2 + 2*x - 5 = 0"
   ]
  },
  {
   "cell_type": "code",
   "execution_count": 52,
   "metadata": {},
   "outputs": [
    {
     "name": "stdout",
     "output_type": "stream",
     "text": [
      "Проміжний розязок:  2.5\n",
      "Проміжний розязок:  -0.625\n",
      "Проміжний розязок:  2.3046875\n",
      "Проміжний розязок:  -0.155792236328125\n",
      "Проміжний розязок:  2.487864389549941\n",
      "Проміжний розязок:  -0.5947346103953497\n",
      "Проміжний розязок:  2.3231453715989456\n",
      "Проміжний розязок:  -0.1985022087908015\n",
      "Проміжний розязок:  2.4802984365525864\n",
      "Проміжний розязок:  -0.5759401671826021\n",
      "Проміжний розязок:  2.3341464619128383\n",
      "Проміжний розязок:  -0.2241198528301105\n",
      "Проміжний розязок:  2.4748851457837047\n",
      "Проміжний розязок:  -0.5625282424104143\n",
      "Проміжний розязок:  2.341780988245325\n",
      "Проміжний розязок:  -0.2419690984536258\n",
      "Проміжний розязок:  2.47072547769677\n",
      "Проміжний розязок:  -0.5522421930699659\n",
      "Проміжний розязок:  2.3475142800966373\n",
      "Проміжний розязок:  -0.25541164762881685\n",
      "Проміжний розязок:  2.4673824451277664\n",
      "Проміжний розязок:  -0.5439880652623375\n",
      "Проміжний розязок:  2.3520384924260695\n",
      "Проміжний розязок:  -0.26604253492694907\n",
      "Проміжний розязок:  2.4646106848048217\n",
      "Проміжний розязок:  -0.5371529138270459\n",
      "Проміжний розязок:  2.3557333735835573\n",
      "Проміжний розязок:  -0.2747398637076839\n",
      "Проміжний розязок:  2.4622590036449417\n",
      "Проміжний розязок:  -0.5313597005152904\n",
      "Розвязок:  -0.5313597005152904\n"
     ]
    }
   ],
   "source": [
    "x = 0\n",
    "x0 = []\n",
    "x1 = []\n",
    "\n",
    "for i in range(30):\n",
    "    x1.append(x)\n",
    "    xi = (-x**2 + 5) / 2\n",
    "    x0.append(xi)\n",
    "    print(\"Проміжний розязок: \", xi)\n",
    "    if x == xi:\n",
    "        print(\"Ми знайшли розвязок\", xi)\n",
    "        break\n",
    "    x = xi\n",
    "\n",
    "print(\"Розвязок: \", x)"
   ]
  },
  {
   "cell_type": "code",
   "execution_count": 45,
   "metadata": {},
   "outputs": [
    {
     "data": {
      "text/plain": [
       "-5.5511"
      ]
     },
     "execution_count": 45,
     "metadata": {},
     "output_type": "execute_result"
    }
   ],
   "source": [
    "0.33**2 + 2*(-0.33) - 5"
   ]
  },
  {
   "cell_type": "code",
   "execution_count": 53,
   "metadata": {},
   "outputs": [
    {
     "data": {
      "image/png": "[encoded data removed]",
      "text/plain": [
       "<Figure size 640x480 with 1 Axes>"
      ]
     },
     "metadata": {},
     "output_type": "display_data"
    }
   ],
   "source": [
    "import matplotlib.pyplot as plt\n",
    "plt.plot(x0)\n",
    "plt.plot(x1)\n",
    "plt.show()"
   ]
  }
 ],
 "metadata": {
  "kernelspec": {
   "display_name": "Python 3",
   "language": "python",
   "name": "python3"
  },
  "language_info": {
   "codemirror_mode": {
    "name": "ipython",
    "version": 3
   },
   "file_extension": ".py",
   "mimetype": "text/x-python",
   "name": "python",
   "nbconvert_exporter": "python",
   "pygments_lexer": "ipython3",
   "version": "3.11.1"
  }
 },
 "nbformat": 4,
 "nbformat_minor": 2
}
