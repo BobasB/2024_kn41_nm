{
 "cells": [
  {
   "cell_type": "markdown",
   "metadata": {},
   "source": [
    "# Починаємо програмувати на Пайтон\n",
    "## Типи змінних у Пайтон\n",
    "- стрічкові змінні\n",
    "- попрацювали з функцією `print`\n",
    "- видалили змінну\n",
    "- отримали помилку\n",
    "- написали коментар"
   ]
  },
  {
   "cell_type": "code",
   "execution_count": 2,
   "metadata": {},
   "outputs": [
    {
     "name": "stdout",
     "output_type": "stream",
     "text": [
      "Це буде стрічка яка присвоєна у змінну Це також буде стрічка\n",
      "<class 'str'>\n",
      "Це ніколи не буде виведено\n"
     ]
    }
   ],
   "source": [
    "a = \"Це буде стрічка яка присвоєна у змінну\"\n",
    "b = 'Це також буде стрічка'\n",
    "\n",
    "print(a, b)\n",
    "\n",
    "c_a_b = \"This is string\"\n",
    "\n",
    "t = type(c_a_b)\n",
    "\n",
    "print(t)\n",
    "\n",
    "del c_a_b\n",
    "\n",
    "#print(c_a_b) # це коментар, ця стрічка завжди видає помилку\n",
    "# TODO: це коментар щоб паямтати що цей код не працює та його треба пофіксити\n",
    "\n",
    "print(\"Це ніколи не буде виведено\")"
   ]
  },
  {
   "cell_type": "markdown",
   "metadata": {},
   "source": [
    "### Це помилка яку нам має видавати попередня клітинка якщо ми розкоментуємо код з помилкою\n",
    "```python\n",
    "---------------------------------------------------------------------------\n",
    "NameError                                 Traceback (most recent call last)\n",
    "Cell In[1], line 14\n",
    "     10 print(t)\n",
    "     12 del c_a_b\n",
    "---> 14 print(c_a_b) # це коментар, ця стрічка завжди видає помилку\n",
    "     15 # TODO: це коментар щоб паямтати що цей код не працює та його треба пофіксити\n",
    "     17 print(\"Це ніколи не буде виведено\")\n",
    "\n",
    "NameError: name 'c_a_b' is not defined\n",
    "```"
   ]
  },
  {
   "cell_type": "markdown",
   "metadata": {},
   "source": [
    "- числові змінні\n",
    "- цілі та числа з плаваючою крапкою\n",
    "- подивились які імена можуть бути використані для зміних"
   ]
  },
  {
   "cell_type": "code",
   "execution_count": 9,
   "metadata": {},
   "outputs": [
    {
     "name": "stdout",
     "output_type": "stream",
     "text": [
      "<class 'int'>\n",
      "2.0 <class 'float'>\n",
      "3.0 <class 'float'>\n"
     ]
    }
   ],
   "source": [
    "c_a_b = 1\n",
    "\n",
    "print(type(c_a_b))\n",
    "\n",
    "_ = 2.0\n",
    "print(_, type(_))\n",
    "\n",
    "n_b = 3.0\n",
    "print(n_b, type(n_b))"
   ]
  },
  {
   "cell_type": "code",
   "execution_count": 13,
   "metadata": {},
   "outputs": [
    {
     "data": {
      "text/plain": [
       "33"
      ]
     },
     "execution_count": 13,
     "metadata": {},
     "output_type": "execute_result"
    }
   ],
   "source": [
    "n = 23\n",
    "n # це не буде виведено як вивід комірки\n",
    "m = 33\n",
    "m # а це вже буде навіть якщо ми не задали функцію `print`"
   ]
  },
  {
   "cell_type": "markdown",
   "metadata": {},
   "source": [
    "### Втуп до арифметичних операцій\n",
    "- дадавання двох чисел"
   ]
  },
  {
   "cell_type": "code",
   "execution_count": 14,
   "metadata": {},
   "outputs": [
    {
     "data": {
      "text/plain": [
       "56"
      ]
     },
     "execution_count": 14,
     "metadata": {},
     "output_type": "execute_result"
    }
   ],
   "source": [
    "n+m"
   ]
  },
  {
   "cell_type": "code",
   "execution_count": 15,
   "metadata": {},
   "outputs": [
    {
     "data": {
      "text/plain": [
       "56"
      ]
     },
     "execution_count": 15,
     "metadata": {},
     "output_type": "execute_result"
    }
   ],
   "source": [
    "r = n + m\n",
    "r"
   ]
  },
  {
   "cell_type": "code",
   "execution_count": 17,
   "metadata": {},
   "outputs": [
    {
     "name": "stdout",
     "output_type": "stream",
     "text": [
      "Результат додовання = 56\n"
     ]
    }
   ],
   "source": [
    "print(\"Результат додовання =\", n+m)"
   ]
  },
  {
   "cell_type": "code",
   "execution_count": 20,
   "metadata": {},
   "outputs": [
    {
     "name": "stdout",
     "output_type": "stream",
     "text": [
      "Це буде стрічка яка присвоєна у зміннуЦе також буде стрічка\n",
      "Це початок 3.0 _V_ Це буде стрічка яка присвоєна у зміннуЦе завершення\n"
     ]
    }
   ],
   "source": [
    "print(a + b)\n",
    "# Це приклад КОНКАТЕНАЦІЇ \n",
    "print(\"Це початок \" + str(n_b) + \" _V_ \" + a + ' Це завершення')"
   ]
  }
 ],
 "metadata": {
  "kernelspec": {
   "display_name": "Python 3",
   "language": "python",
   "name": "python3"
  },
  "language_info": {
   "codemirror_mode": {
    "name": "ipython",
    "version": 3
   },
   "file_extension": ".py",
   "mimetype": "text/x-python",
   "name": "python",
   "nbconvert_exporter": "python",
   "pygments_lexer": "ipython3",
   "version": "3.11.1"
  }
 },
 "nbformat": 4,
 "nbformat_minor": 2
}
