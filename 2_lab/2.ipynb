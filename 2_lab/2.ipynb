{
 "cells": [
  {
   "cell_type": "markdown",
   "metadata": {},
   "source": [
    "# Починаємо програмувати на Пайтон\n",
    "## Типи змінних у Пайтон\n",
    "- стрічкові змінні\n",
    "- попрацювали з функцією `print`\n",
    "- видалили змінну\n",
    "- отримали помилку\n",
    "- написали коментар"
   ]
  },
  {
   "cell_type": "code",
   "execution_count": null,
   "metadata": {},
   "outputs": [],
   "source": [
    "a = \"Це буде стрічка яка присвоєна у змінну\"\n",
    "b = 'Це також буде стрічка'\n",
    "\n",
    "print(a, b)\n",
    "\n",
    "c_a_b = \"This is string\"\n",
    "\n",
    "t = type(c_a_b)\n",
    "\n",
    "print(t)\n",
    "\n",
    "del c_a_b\n",
    "\n",
    "#print(c_a_b) # це коментар, ця стрічка завжди видає помилку\n",
    "# TODO: це коментар щоб паямтати що цей код не працює та його треба пофіксити\n",
    "\n",
    "print(\"Це ніколи не буде виведено\")"
   ]
  },
  {
   "cell_type": "markdown",
   "metadata": {},
   "source": [
    "### Це помилка яку нам має видавати попередня клітинка якщо ми розкоментуємо код з помилкою\n",
    "```python\n",
    "---------------------------------------------------------------------------\n",
    "NameError                                 Traceback (most recent call last)\n",
    "Cell In[1], line 14\n",
    "     10 print(t)\n",
    "     12 del c_a_b\n",
    "---> 14 print(c_a_b) # це коментар, ця стрічка завжди видає помилку\n",
    "     15 # TODO: це коментар щоб паямтати що цей код не працює та його треба пофіксити\n",
    "     17 print(\"Це ніколи не буде виведено\")\n",
    "\n",
    "NameError: name 'c_a_b' is not defined\n",
    "```"
   ]
  },
  {
   "cell_type": "markdown",
   "metadata": {},
   "source": [
    "- числові змінні\n",
    "- цілі та числа з плаваючою крапкою\n",
    "- подивились які імена можуть бути використані для зміних"
   ]
  },
  {
   "cell_type": "code",
   "execution_count": null,
   "metadata": {},
   "outputs": [],
   "source": [
    "c_a_b = 1\n",
    "\n",
    "print(type(c_a_b))\n",
    "\n",
    "_ = 2.0\n",
    "print(_, type(_))\n",
    "\n",
    "n_b = 3.0\n",
    "print(n_b, type(n_b))"
   ]
  },
  {
   "cell_type": "code",
   "execution_count": null,
   "metadata": {},
   "outputs": [],
   "source": [
    "n = 23\n",
    "n # це не буде виведено як вивід комірки\n",
    "m = 33\n",
    "m # а це вже буде навіть якщо ми не задали функцію `print`"
   ]
  },
  {
   "cell_type": "markdown",
   "metadata": {},
   "source": [
    "### Втуп до арифметичних операцій\n",
    "- дадавання двох чисел"
   ]
  },
  {
   "cell_type": "code",
   "execution_count": null,
   "metadata": {},
   "outputs": [],
   "source": [
    "n+m"
   ]
  },
  {
   "cell_type": "code",
   "execution_count": null,
   "metadata": {},
   "outputs": [],
   "source": [
    "r = n + m\n",
    "r"
   ]
  },
  {
   "cell_type": "code",
   "execution_count": null,
   "metadata": {},
   "outputs": [],
   "source": [
    "print(\"Результат додовання =\", n+m)"
   ]
  },
  {
   "cell_type": "code",
   "execution_count": null,
   "metadata": {},
   "outputs": [],
   "source": [
    "print(a + b)\n",
    "# Це приклад КОНКАТЕНАЦІЇ \n",
    "print(\"Це початок \" + str(n_b) + \" _V_ \" + a + ' Це завершення')"
   ]
  },
  {
   "cell_type": "code",
   "execution_count": null,
   "metadata": {},
   "outputs": [],
   "source": [
    "c = n + m\n",
    "d = n.__add__(m)\n",
    "print(c, d)\n",
    "f = n.__sub__(m)\n",
    "print(f)\n",
    "\n",
    "s = \"Ми не можемо \"\n",
    "ss = \"відмнімати стрічки\"\n",
    "#s.__sub__()"
   ]
  },
  {
   "cell_type": "markdown",
   "metadata": {},
   "source": [
    "### Колекції даних\n",
    "- списки - `List`\n",
    "- словники - `Dict`"
   ]
  },
  {
   "cell_type": "code",
   "execution_count": null,
   "metadata": {},
   "outputs": [],
   "source": [
    "a = \"a\"\n",
    "l = [a, 'a']\n",
    "one = \"1\"\n",
    "one_1 = 1\n",
    "ll = list([one, one_1, 1+one_1])\n",
    "print(l, ll)"
   ]
  },
  {
   "cell_type": "code",
   "execution_count": null,
   "metadata": {},
   "outputs": [],
   "source": [
    "l2 = [l, a, ll, [\"Це стрічка у списку\"]]\n",
    "print(l2)"
   ]
  },
  {
   "cell_type": "markdown",
   "metadata": {},
   "source": [
    "- У списку завжди є впорядковані дані, які можуть повторюватись\n",
    "- списки починаються з 0\n",
    "- можемо використовувати негативні індекси для доступу з кінця списку"
   ]
  },
  {
   "cell_type": "code",
   "execution_count": null,
   "metadata": {},
   "outputs": [],
   "source": [
    "print(l2[0])\n",
    "print(l2[-1])"
   ]
  },
  {
   "cell_type": "code",
   "execution_count": null,
   "metadata": {},
   "outputs": [],
   "source": [
    "l3 = [1,2,3,4]\n",
    "l3.append(9)\n",
    "print(l3)\n",
    "print(\"Хочемо видалити елемент на позиції 0, яким буде: \", l3[0])\n",
    "l3.pop(0)\n",
    "print(l3)"
   ]
  },
  {
   "cell_type": "code",
   "execution_count": null,
   "metadata": {},
   "outputs": [],
   "source": [
    "l3.append(6)\n",
    "l3.append(6)\n",
    "l3.append(7)\n",
    "l3.append(7)\n",
    "l3.remove(6)\n",
    "print(\"Зараз у списку є: \", l3.count(6), \"А довжина даного списку буде: \", len(l3))"
   ]
  },
  {
   "cell_type": "code",
   "execution_count": null,
   "metadata": {},
   "outputs": [],
   "source": [
    "l1 = [1, 2]\n",
    "l2 = [3, 4]\n",
    "print(l1+l2)\n",
    "# віднімати сиски неможна, буде помилка\n",
    "#print(l1-l2)"
   ]
  },
  {
   "cell_type": "markdown",
   "metadata": {},
   "source": [
    "### Словники\n",
    "- дані записані в колекцію з певним ключем\n",
    "- ключ словника має бути унікальним, але значення можуть повторюватись і занченнями можуть бути інші списки або словники"
   ]
  },
  {
   "cell_type": "code",
   "execution_count": null,
   "metadata": {},
   "outputs": [],
   "source": [
    "d = {'key': 'value'}\n",
    "print(d['key'])\n",
    "\n",
    "##############\n",
    "\n",
    "key = 'value'\n",
    "d[key] = 'key'\n",
    "print(d['value'])\n",
    "\n",
    "print(\"Ось словник повністю:\", d)"
   ]
  },
  {
   "cell_type": "code",
   "execution_count": null,
   "metadata": {},
   "outputs": [],
   "source": [
    "dd = {\"a\": 1, \"a\": 2}\n",
    "dd\n",
    "\n",
    "d2 = {\"a\": 1, \"b\": 1, \"c\": [1,2]}\n",
    "print(d2['c'])"
   ]
  },
  {
   "cell_type": "markdown",
   "metadata": {},
   "source": [
    "- розглядаємо Tuple\n",
    "- Tuple є immutable - тобто його не можна змінювати після створення\n",
    "- використовуються найчастіше щоб зберігати якісь константи"
   ]
  },
  {
   "cell_type": "code",
   "execution_count": null,
   "metadata": {},
   "outputs": [],
   "source": [
    "l = [1, 2, 3]\n",
    "t = (1, 2, 3)\n",
    "\n",
    "print(\"Список: \", l[0], \"Тюпл: \", t[0])\n",
    "l.append(4)\n",
    "print(l)\n",
    "print(\"Можни перетворити List -> Tuple\", tuple(l))"
   ]
  },
  {
   "cell_type": "markdown",
   "metadata": {},
   "source": [
    "- розглядаємо Set\n",
    "- в такій колекції містяться унікальні обєкти (не повторюватись)\n",
    "- невпорядкована колекція (неможливо витягувати елементи за їх індексами)"
   ]
  },
  {
   "cell_type": "code",
   "execution_count": null,
   "metadata": {},
   "outputs": [],
   "source": [
    "l = [1, 2, 3, 1, 3, 2]\n",
    "# як зробити щоб залишились тільки унікальні елементи\n",
    "s = set(l)\n",
    "print(s)\n",
    "print(\"Витягуємо елемент\", s.pop())\n",
    "print(\"Сет зменшився на один елемент\", s)\n",
    "# У сетах можуть бути елементи у яких не співпадають hash\n",
    "a = 1\n",
    "a.__hash__()\n",
    "b = 1\n",
    "print(a.__hash__() == b.__hash__())\n",
    "ss = {a, b}\n",
    "ss"
   ]
  },
  {
   "cell_type": "markdown",
   "metadata": {},
   "source": [
    "## трохи більше про вивід\n",
    "- розглядаємо функцію print та як можна форматувати вивід"
   ]
  },
  {
   "cell_type": "code",
   "execution_count": null,
   "metadata": {},
   "outputs": [],
   "source": [
    "# Спочатку формується текст виводу а потім прінтиться\n",
    "a = \"Це буде вивидитись\"\n",
    "print(a)\n",
    "b = \"Вивід після вставки\"\n",
    "print(a, 1, b)"
   ]
  },
  {
   "cell_type": "code",
   "execution_count": 80,
   "metadata": {},
   "outputs": [],
   "source": [
    "#l = input(\"Введіть своє імя: \")\n",
    "#print(\"Привіт \", l, \" Приємно познайомитись\")"
   ]
  },
  {
   "cell_type": "code",
   "execution_count": null,
   "metadata": {},
   "outputs": [],
   "source": [
    "v = \"Це буде вставка!\"\n",
    "a = \"Початок {} кінець {}\".format(v, \"!\")\n",
    "print(a)\n",
    "b = \"Початок {1} {0} А може не {1}\".format(v, \"кінець!\")\n",
    "print(b)"
   ]
  },
  {
   "cell_type": "code",
   "execution_count": null,
   "metadata": {},
   "outputs": [],
   "source": [
    "a = \"ЦЕ ВСТАВКА\"\n",
    "s = f\"Текст та {a} після вставки\"\n",
    "print(s)"
   ]
  },
  {
   "cell_type": "code",
   "execution_count": null,
   "metadata": {},
   "outputs": [],
   "source": [
    "a = \"Один\"\n",
    "b = \"Два\"\n",
    "c = \"Три\"\n",
    "\n",
    "print(a, b, c)\n",
    "print(a + \" \" + b + \" \" + c)\n",
    "print(\"{} {} {}\".format(a, b, c))\n",
    "print(f\"{a} {b} {c}\")"
   ]
  },
  {
   "cell_type": "markdown",
   "metadata": {},
   "source": [
    " ### Вбудовані константи та функції\n",
    " - неможна перевизначати константи"
   ]
  },
  {
   "cell_type": "code",
   "execution_count": null,
   "metadata": {},
   "outputs": [],
   "source": [
    "false = False\n",
    "# змінні чутливі до регістру тому можна зробити подібну змінну\n",
    "print(false == False)\n",
    "\n",
    "a = \"\" # це не є відсутність значення\n",
    "print(a)\n",
    "\n",
    "def fun_name():\n",
    "    return\n",
    "\n",
    "print(fun_name())\n",
    "\n",
    "d = {\"ключ\": None, None: \"Тут відсутнє значення\", \"\": \"Це пуста стрічка\"}\n",
    "\n",
    "print(d[None], d[\"\"])\n",
    "\n",
    "l = [1, 3, 2, 4]\n",
    "print(l)\n",
    "print(\"Робимо сортування: \", l.sort(), \"\\nВигляд після сортування: \", l)"
   ]
  },
  {
   "cell_type": "markdown",
   "metadata": {},
   "source": [
    "- вбудовані функції можна використовувати зразу у Пайтон\n",
    "- а інші функції які знаходяться у бібліотеках потрібно спочатку імпортувати"
   ]
  },
  {
   "cell_type": "code",
   "execution_count": null,
   "metadata": {},
   "outputs": [],
   "source": [
    "from math import cos, pi\n",
    "\n",
    "print(pi)\n",
    "print(cos(2 * pi))"
   ]
  },
  {
   "cell_type": "code",
   "execution_count": 86,
   "metadata": {},
   "outputs": [],
   "source": [
    "#i = int(input(\"Введіть число: \"))\n",
    "#print(f\"Було введено {i}, яке є типом {type(i)}, і тепер можна додати 1 = {i + 1}\")"
   ]
  },
  {
   "cell_type": "markdown",
   "metadata": {},
   "source": [
    "### Починаємо циклити\n",
    "- `for` та `while`\n",
    "- for - ітераційний цикл\n",
    "- while - умовний цикл - тут може бути проблема безкінецноо циклу\n",
    "- `break` використовується щоб перервати цикл\n",
    "- `continue` використовується щоб пропустити якусь ітерацію в циклі"
   ]
  },
  {
   "cell_type": "code",
   "execution_count": null,
   "metadata": {},
   "outputs": [],
   "source": [
    "for i in d2.keys():\n",
    "    print(f\"По ключу {i} буде виведено: \", d2[i])"
   ]
  },
  {
   "cell_type": "markdown",
   "metadata": {},
   "source": [
    "- спробуємо ітераційним методом знайти корені рівняння\n",
    "- x**2 + 2*x - 2 = 0"
   ]
  },
  {
   "cell_type": "code",
   "execution_count": null,
   "metadata": {},
   "outputs": [],
   "source": [
    "x = 0\n",
    "x0 = []\n",
    "x1 = []\n",
    "\n",
    "for i in range(30):\n",
    "    x1.append(x)\n",
    "    xi = (-x**2 + 2) / 2\n",
    "    x0.append(xi)\n",
    "    print(\"Проміжний розязок: \", xi)\n",
    "    if x == xi:\n",
    "        print(\"Ми знайшли розвязок\", xi)\n",
    "        break\n",
    "    x = xi\n",
    "\n",
    "print(\"Розвязок: \", x)"
   ]
  },
  {
   "cell_type": "code",
   "execution_count": null,
   "metadata": {},
   "outputs": [],
   "source": [
    "0.732**2 + 2*(0.732) - 2"
   ]
  },
  {
   "cell_type": "code",
   "execution_count": null,
   "metadata": {},
   "outputs": [],
   "source": [
    "import matplotlib.pyplot as plt\n",
    "plt.plot(x0)\n",
    "plt.plot(x1)\n",
    "plt.show()"
   ]
  },
  {
   "cell_type": "markdown",
   "metadata": {},
   "source": [
    "- для циклів часто використовуються згенеровані проміжки або набори даних (по яких здійснюється ітерація)\n",
    "- найбільш вживаною є функція `range`\n",
    "- range можна перетворити в список і доступатись до його елентів"
   ]
  },
  {
   "cell_type": "code",
   "execution_count": null,
   "metadata": {},
   "outputs": [],
   "source": [
    "i = range(10)\n",
    "j = range(5, 10)\n",
    "k = range(2, 11, 2)\n",
    "print(i[-1], j[0], j[-1], k[1], k[-1])\n",
    "\n",
    "l = list(i)\n",
    "l"
   ]
  },
  {
   "cell_type": "code",
   "execution_count": null,
   "metadata": {},
   "outputs": [],
   "source": [
    "for c in i:\n",
    "    print(f\"+ Це перший цикл: {c}\")\n",
    "    for p in j:\n",
    "        print(f\"- Це другий цикл: {p}\")"
   ]
  },
  {
   "cell_type": "markdown",
   "metadata": {},
   "source": [
    "- а як можна використати `while` щоб також пройтись по елементах списку?"
   ]
  },
  {
   "cell_type": "code",
   "execution_count": null,
   "metadata": {},
   "outputs": [],
   "source": [
    "c = 0\n",
    "while c < len(i):\n",
    "    print(f\"+ Це перший цикл: {i[c]}\")\n",
    "    c+=1\n",
    "    p = 0\n",
    "    while p < len(j):\n",
    "        print(f\"- Це другий цикл: {j[p]}\")\n",
    "        p+=1"
   ]
  },
  {
   "cell_type": "markdown",
   "metadata": {},
   "source": [
    "- `while` - оскільки це умовний цикл дуже легко написати умову яка буде безкінечною\n",
    "- але щоб всетаки колись вийти з циклу ми використаємо умову `break`"
   ]
  },
  {
   "cell_type": "code",
   "execution_count": null,
   "metadata": {},
   "outputs": [],
   "source": [
    "from random import randint, seed\n",
    "\n",
    "seed(0)\n",
    "'''\n",
    "    за допомогою такої привязки наша випадкова послідовність буде випадковою, \n",
    "    але лише раз!\n",
    "    перегенерюючи цю комірку - числа будуть ті самі\n",
    "'''\n",
    "\n",
    "k = 0\n",
    "while True: # це першиа умова і вона у нас є безкінечною\n",
    "    k += 1\n",
    "    c = randint(1, 6)\n",
    "    print(f\"{k}) На кубику випало число {c}\")\n",
    "    if c == 5: # це додаткова умова виходу з циклу\n",
    "        print(f\"Нарешті нам повело випало число {c} через {k} разів\")\n",
    "        break"
   ]
  },
  {
   "cell_type": "markdown",
   "metadata": {},
   "source": [
    "- тут спробуємо виключити всі результати коли нам випадає кубик 5\n",
    "- основне правило в умовах - робити їх простими і зрозумілими. Уникати зворотних негативних формулювань, для прикладу `if A != B`"
   ]
  },
  {
   "cell_type": "code",
   "execution_count": null,
   "metadata": {},
   "outputs": [],
   "source": [
    "a = 0\n",
    "for c in range(30):\n",
    "    k = randint(1, 6)\n",
    "    if k == 5:\n",
    "        a += 1\n",
    "        continue\n",
    "    print(f\"{c+1}) Це ніколи не виведеться якщо у нас випаде число 5! Випало {k}\")\n",
    " \n",
    "print(f\"Число 5 ми пропустили {a} разів!\")"
   ]
  },
  {
   "cell_type": "markdown",
   "metadata": {},
   "source": [
    "- Купили пачку M&Ms в якій 30 штучок які ми починаємо їсти \n",
    "- напишемо це код за допомогою for та while"
   ]
  },
  {
   "cell_type": "code",
   "execution_count": null,
   "metadata": {},
   "outputs": [],
   "source": [
    "mmd = [\"червоний\", \"жовтий\", \"зелений\", \"синій\", \"корчневий\", \"оранжевий\"]\n",
    "from random import shuffle\n",
    "\n",
    "pack = mmd * 100\n",
    "shuffle(pack)\n",
    "print(len(pack[0:30]))\n",
    "\n",
    "for m in pack[0:30]: #використаємо слайсінг у списках\n",
    "    print(f\"Ми витягнули {m} Ммдемску та зїли\")"
   ]
  },
  {
   "cell_type": "code",
   "execution_count": null,
   "metadata": {},
   "outputs": [],
   "source": [
    "ii = pack[30:60]\n",
    "print(len(ii))\n",
    "while ii:\n",
    "    print(f\"Ми витягнули {ii.pop(0)} Ммдемску та зїли\")"
   ]
  },
  {
   "cell_type": "markdown",
   "metadata": {},
   "source": [
    "- в класичному представлення циклів є конструукція for або while яка виконує тіло циклу\n",
    "- існує методистворення списків за допомогою однієї стрічки (one-liners) або так званий методи list comprehantion"
   ]
  },
  {
   "cell_type": "code",
   "execution_count": 14,
   "metadata": {},
   "outputs": [
    {
     "name": "stdout",
     "output_type": "stream",
     "text": [
      "[0, 1, 2, 3, 4, 5, 6, 7, 8, 9]\n",
      "[0, 1, 2, 3, 4, 5, 6, 7, 8, 9]\n",
      "[0, 1, 2, 3, 4, 5, 6, 7, 8, 9]\n"
     ]
    }
   ],
   "source": [
    "r = range(10)\n",
    "print(list(r))\n",
    "\n",
    "i = 0\n",
    "R = []\n",
    "while i < 10:\n",
    "   R.append(i)\n",
    "   i+=1\n",
    "\n",
    "print(R)\n",
    "\n",
    "Rl = [i for i in range(10)]\n",
    "print(Rl)"
   ]
  },
  {
   "cell_type": "code",
   "execution_count": 19,
   "metadata": {},
   "outputs": [
    {
     "name": "stdout",
     "output_type": "stream",
     "text": [
      "Мені попалась жовтий Ммдемска\n",
      "Мені попалась червоний Ммдемска\n",
      "Мені попалась синій Ммдемска\n",
      "Мені попалась зелений Ммдемска\n",
      "Мені попалась оранжевий Ммдемска\n",
      "Мені попалась корчневий Ммдемска\n"
     ]
    }
   ],
   "source": [
    "shuffle(mmd)\n",
    "\n",
    "for m in mmd:\n",
    "    print(f\"Мені попалась {m} Ммдемска\")"
   ]
  },
  {
   "cell_type": "code",
   "execution_count": 23,
   "metadata": {},
   "outputs": [
    {
     "name": "stdout",
     "output_type": "stream",
     "text": [
      "['Мені попалась жовтий Ммдемска', 'Мені попалась червоний Ммдемска', 'Мені попалась синій Ммдемска', 'Мені попалась зелений Ммдемска', 'Мені попалась оранжевий Ммдемска', 'Мені попалась корчневий Ммдемска']\n"
     ]
    }
   ],
   "source": [
    "print([f\"Мені попалась {m} Ммдемска\" for m in mmd])"
   ]
  },
  {
   "cell_type": "markdown",
   "metadata": {},
   "source": [
    "### Розгалуження\n",
    "- вибираємо конкретну гілку та команди які будуть виконуватись в залежності від вхідної умови\n",
    "- умовою буде будь-який вираз який дає булевий результат\n",
    "- істиною в умовах вважається будь-що крім False або 0 або None\n",
    "- ми можемо лише викликати if без конструкції else, Це робиться коли нам не потрібно розгалуження а просто виконати конкретну операції лише за настання умови"
   ]
  },
  {
   "cell_type": "code",
   "execution_count": null,
   "metadata": {},
   "outputs": [],
   "source": [
    "if True:\n",
    "    print(\"Це буде виводитись завжди\")\n",
    "else:\n",
    "    print(\"Це ніколи не виконаєтья якщо умова буде True\")"
   ]
  },
  {
   "cell_type": "code",
   "execution_count": 24,
   "metadata": {},
   "outputs": [
    {
     "name": "stdout",
     "output_type": "stream",
     "text": [
      "Це виконається завжди\n",
      "Продовжуємо виконання програми\n"
     ]
    }
   ],
   "source": [
    "print(\"Це виконається завжди\")\n",
    "if i < 5:\n",
    "    print(\"Це виконається за умов\")\n",
    "\n",
    "print(\"Продовжуємо виконання програми\")\n"
   ]
  },
  {
   "cell_type": "code",
   "execution_count": 26,
   "metadata": {},
   "outputs": [
    {
     "name": "stdout",
     "output_type": "stream",
     "text": [
      "Отримали 6 що є більше 5\n"
     ]
    }
   ],
   "source": [
    "def example(a):\n",
    "    if a > 5:\n",
    "        print(f\"Отримали {a} що є більше 5\")\n",
    "        return\n",
    "    \n",
    "    print(f\"{a} є менше 5\")\n",
    "\n",
    "example(6)"
   ]
  }
 ],
 "metadata": {
  "kernelspec": {
   "display_name": "Python 3",
   "language": "python",
   "name": "python3"
  },
  "language_info": {
   "codemirror_mode": {
    "name": "ipython",
    "version": 3
   },
   "file_extension": ".py",
   "mimetype": "text/x-python",
   "name": "python",
   "nbconvert_exporter": "python",
   "pygments_lexer": "ipython3",
   "version": "3.11.1"
  }
 },
 "nbformat": 4,
 "nbformat_minor": 2
}
