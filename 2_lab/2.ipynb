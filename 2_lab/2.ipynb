{
 "cells": [
  {
   "cell_type": "markdown",
   "metadata": {},
   "source": [
    "# Починаємо програмувати на Пайтон\n",
    "## Типи змінних у Пайтон\n",
    "- стрічкові змінні\n",
    "- попрацювали з функцією `print`\n",
    "- видалили змінну\n",
    "- отримали помилку\n",
    "- написали коментар"
   ]
  },
  {
   "cell_type": "code",
   "execution_count": 2,
   "metadata": {},
   "outputs": [
    {
     "name": "stdout",
     "output_type": "stream",
     "text": [
      "Це буде стрічка яка присвоєна у змінну Це також буде стрічка\n",
      "<class 'str'>\n",
      "Це ніколи не буде виведено\n"
     ]
    }
   ],
   "source": [
    "a = \"Це буде стрічка яка присвоєна у змінну\"\n",
    "b = 'Це також буде стрічка'\n",
    "\n",
    "print(a, b)\n",
    "\n",
    "c_a_b = \"This is string\"\n",
    "\n",
    "t = type(c_a_b)\n",
    "\n",
    "print(t)\n",
    "\n",
    "del c_a_b\n",
    "\n",
    "#print(c_a_b) # це коментар, ця стрічка завжди видає помилку\n",
    "# TODO: це коментар щоб паямтати що цей код не працює та його треба пофіксити\n",
    "\n",
    "print(\"Це ніколи не буде виведено\")"
   ]
  },
  {
   "cell_type": "markdown",
   "metadata": {},
   "source": [
    "### Це помилка яку нам має видавати попередня клітинка якщо ми розкоментуємо код з помилкою\n",
    "```python\n",
    "---------------------------------------------------------------------------\n",
    "NameError                                 Traceback (most recent call last)\n",
    "Cell In[1], line 14\n",
    "     10 print(t)\n",
    "     12 del c_a_b\n",
    "---> 14 print(c_a_b) # це коментар, ця стрічка завжди видає помилку\n",
    "     15 # TODO: це коментар щоб паямтати що цей код не працює та його треба пофіксити\n",
    "     17 print(\"Це ніколи не буде виведено\")\n",
    "\n",
    "NameError: name 'c_a_b' is not defined\n",
    "```"
   ]
  },
  {
   "cell_type": "markdown",
   "metadata": {},
   "source": [
    "- числові змінні\n",
    "- цілі та числа з плаваючою крапкою\n",
    "- подивились які імена можуть бути використані для зміних"
   ]
  },
  {
   "cell_type": "code",
   "execution_count": 3,
   "metadata": {},
   "outputs": [
    {
     "name": "stdout",
     "output_type": "stream",
     "text": [
      "<class 'int'>\n",
      "2.0 <class 'float'>\n",
      "3.0 <class 'float'>\n"
     ]
    }
   ],
   "source": [
    "c_a_b = 1\n",
    "\n",
    "print(type(c_a_b))\n",
    "\n",
    "_ = 2.0\n",
    "print(_, type(_))\n",
    "\n",
    "n_b = 3.0\n",
    "print(n_b, type(n_b))"
   ]
  },
  {
   "cell_type": "code",
   "execution_count": 4,
   "metadata": {},
   "outputs": [
    {
     "data": {
      "text/plain": [
       "33"
      ]
     },
     "execution_count": 4,
     "metadata": {},
     "output_type": "execute_result"
    }
   ],
   "source": [
    "n = 23\n",
    "n # це не буде виведено як вивід комірки\n",
    "m = 33\n",
    "m # а це вже буде навіть якщо ми не задали функцію `print`"
   ]
  },
  {
   "cell_type": "markdown",
   "metadata": {},
   "source": [
    "### Втуп до арифметичних операцій\n",
    "- дадавання двох чисел"
   ]
  },
  {
   "cell_type": "code",
   "execution_count": 5,
   "metadata": {},
   "outputs": [
    {
     "data": {
      "text/plain": [
       "56"
      ]
     },
     "execution_count": 5,
     "metadata": {},
     "output_type": "execute_result"
    }
   ],
   "source": [
    "n+m"
   ]
  },
  {
   "cell_type": "code",
   "execution_count": 6,
   "metadata": {},
   "outputs": [
    {
     "data": {
      "text/plain": [
       "56"
      ]
     },
     "execution_count": 6,
     "metadata": {},
     "output_type": "execute_result"
    }
   ],
   "source": [
    "r = n + m\n",
    "r"
   ]
  },
  {
   "cell_type": "code",
   "execution_count": 7,
   "metadata": {},
   "outputs": [
    {
     "name": "stdout",
     "output_type": "stream",
     "text": [
      "Результат додовання = 56\n"
     ]
    }
   ],
   "source": [
    "print(\"Результат додовання =\", n+m)"
   ]
  },
  {
   "cell_type": "code",
   "execution_count": 8,
   "metadata": {},
   "outputs": [
    {
     "name": "stdout",
     "output_type": "stream",
     "text": [
      "Це буде стрічка яка присвоєна у зміннуЦе також буде стрічка\n",
      "Це початок 3.0 _V_ Це буде стрічка яка присвоєна у змінну Це завершення\n"
     ]
    }
   ],
   "source": [
    "print(a + b)\n",
    "# Це приклад КОНКАТЕНАЦІЇ \n",
    "print(\"Це початок \" + str(n_b) + \" _V_ \" + a + ' Це завершення')"
   ]
  },
  {
   "cell_type": "code",
   "execution_count": 9,
   "metadata": {},
   "outputs": [
    {
     "name": "stdout",
     "output_type": "stream",
     "text": [
      "56 56\n",
      "-10\n"
     ]
    }
   ],
   "source": [
    "c = n + m\n",
    "d = n.__add__(m)\n",
    "print(c, d)\n",
    "f = n.__sub__(m)\n",
    "print(f)\n",
    "\n",
    "s = \"Ми не можемо \"\n",
    "ss = \"відмнімати стрічки\"\n",
    "#s.__sub__()"
   ]
  },
  {
   "cell_type": "markdown",
   "metadata": {},
   "source": [
    "### Колекції даних\n",
    "- списки - `List`\n",
    "- словники - `Dict`"
   ]
  },
  {
   "cell_type": "code",
   "execution_count": 10,
   "metadata": {},
   "outputs": [
    {
     "name": "stdout",
     "output_type": "stream",
     "text": [
      "['a', 'a'] ['1', 1, 2]\n"
     ]
    }
   ],
   "source": [
    "a = \"a\"\n",
    "l = [a, 'a']\n",
    "one = \"1\"\n",
    "one_1 = 1\n",
    "ll = list([one, one_1, 1+one_1])\n",
    "print(l, ll)"
   ]
  },
  {
   "cell_type": "code",
   "execution_count": 11,
   "metadata": {},
   "outputs": [
    {
     "name": "stdout",
     "output_type": "stream",
     "text": [
      "[['a', 'a'], 'a', ['1', 1, 2], ['Це стрічка у списку']]\n"
     ]
    }
   ],
   "source": [
    "l2 = [l, a, ll, [\"Це стрічка у списку\"]]\n",
    "print(l2)"
   ]
  },
  {
   "cell_type": "markdown",
   "metadata": {},
   "source": [
    "- У списку завжди є впорядковані дані, які можуть повторюватись\n",
    "- списки починаються з 0\n",
    "- можемо використовувати негативні індекси для доступу з кінця списку"
   ]
  },
  {
   "cell_type": "code",
   "execution_count": 12,
   "metadata": {},
   "outputs": [
    {
     "name": "stdout",
     "output_type": "stream",
     "text": [
      "['a', 'a']\n",
      "['Це стрічка у списку']\n"
     ]
    }
   ],
   "source": [
    "print(l2[0])\n",
    "print(l2[-1])"
   ]
  },
  {
   "cell_type": "code",
   "execution_count": 13,
   "metadata": {},
   "outputs": [
    {
     "name": "stdout",
     "output_type": "stream",
     "text": [
      "[1, 2, 3, 4, 9]\n",
      "Хочемо видалити елемент на позиції 0, яким буде:  1\n",
      "[2, 3, 4, 9]\n"
     ]
    }
   ],
   "source": [
    "l3 = [1,2,3,4]\n",
    "l3.append(9)\n",
    "print(l3)\n",
    "print(\"Хочемо видалити елемент на позиції 0, яким буде: \", l3[0])\n",
    "l3.pop(0)\n",
    "print(l3)"
   ]
  },
  {
   "cell_type": "code",
   "execution_count": 14,
   "metadata": {},
   "outputs": [
    {
     "name": "stdout",
     "output_type": "stream",
     "text": [
      "Зараз у списку є:  1 А довжина даного списку буде:  7\n"
     ]
    }
   ],
   "source": [
    "l3.append(6)\n",
    "l3.append(6)\n",
    "l3.append(7)\n",
    "l3.append(7)\n",
    "l3.remove(6)\n",
    "print(\"Зараз у списку є: \", l3.count(6), \"А довжина даного списку буде: \", len(l3))"
   ]
  },
  {
   "cell_type": "code",
   "execution_count": 15,
   "metadata": {},
   "outputs": [
    {
     "name": "stdout",
     "output_type": "stream",
     "text": [
      "[1, 2, 3, 4]\n"
     ]
    }
   ],
   "source": [
    "l1 = [1, 2]\n",
    "l2 = [3, 4]\n",
    "print(l1+l2)\n",
    "# віднімати сиски неможна, буде помилка\n",
    "#print(l1-l2)"
   ]
  },
  {
   "cell_type": "markdown",
   "metadata": {},
   "source": [
    "### Словники\n",
    "- дані записані в колекцію з певним ключем\n",
    "- ключ словника має бути унікальним, але значення можуть повторюватись і занченнями можуть бути інші списки або словники"
   ]
  },
  {
   "cell_type": "code",
   "execution_count": 16,
   "metadata": {},
   "outputs": [
    {
     "name": "stdout",
     "output_type": "stream",
     "text": [
      "value\n",
      "key\n",
      "Ось словник повністю: {'key': 'value', 'value': 'key'}\n"
     ]
    }
   ],
   "source": [
    "d = {'key': 'value'}\n",
    "print(d['key'])\n",
    "\n",
    "##############\n",
    "\n",
    "key = 'value'\n",
    "d[key] = 'key'\n",
    "print(d['value'])\n",
    "\n",
    "print(\"Ось словник повністю:\", d)"
   ]
  },
  {
   "cell_type": "code",
   "execution_count": 17,
   "metadata": {},
   "outputs": [
    {
     "name": "stdout",
     "output_type": "stream",
     "text": [
      "[1, 2]\n"
     ]
    }
   ],
   "source": [
    "dd = {\"a\": 1, \"a\": 2}\n",
    "dd\n",
    "\n",
    "d2 = {\"a\": 1, \"b\": 1, \"c\": [1,2]}\n",
    "print(d2['c'])"
   ]
  },
  {
   "cell_type": "markdown",
   "metadata": {},
   "source": [
    "- розглядаємо Tuple\n",
    "- Tuple є immutable - тобто його не можна змінювати після створення\n",
    "- використовуються найчастіше щоб зберігати якісь константи"
   ]
  },
  {
   "cell_type": "code",
   "execution_count": 18,
   "metadata": {},
   "outputs": [
    {
     "name": "stdout",
     "output_type": "stream",
     "text": [
      "Список:  1 Тюпл:  1\n",
      "[1, 2, 3, 4]\n",
      "Можни перетворити List -> Tuple (1, 2, 3, 4)\n"
     ]
    }
   ],
   "source": [
    "l = [1, 2, 3]\n",
    "t = (1, 2, 3)\n",
    "\n",
    "print(\"Список: \", l[0], \"Тюпл: \", t[0])\n",
    "l.append(4)\n",
    "print(l)\n",
    "print(\"Можни перетворити List -> Tuple\", tuple(l))"
   ]
  },
  {
   "cell_type": "markdown",
   "metadata": {},
   "source": [
    "- розглядаємо Set\n",
    "- в такій колекції містяться унікальні обєкти (не повторюватись)\n",
    "- невпорядкована колекція (неможливо витягувати елементи за їх індексами)"
   ]
  },
  {
   "cell_type": "code",
   "execution_count": 19,
   "metadata": {},
   "outputs": [
    {
     "name": "stdout",
     "output_type": "stream",
     "text": [
      "{1, 2, 3}\n",
      "Витягуємо елемент 1\n",
      "Сет зменшився на один елемент {2, 3}\n",
      "True\n"
     ]
    },
    {
     "data": {
      "text/plain": [
       "{1}"
      ]
     },
     "execution_count": 19,
     "metadata": {},
     "output_type": "execute_result"
    }
   ],
   "source": [
    "l = [1, 2, 3, 1, 3, 2]\n",
    "# як зробити щоб залишились тільки унікальні елементи\n",
    "s = set(l)\n",
    "print(s)\n",
    "print(\"Витягуємо елемент\", s.pop())\n",
    "print(\"Сет зменшився на один елемент\", s)\n",
    "# У сетах можуть бути елементи у яких не співпадають hash\n",
    "a = 1\n",
    "a.__hash__()\n",
    "b = 1\n",
    "print(a.__hash__() == b.__hash__())\n",
    "ss = {a, b}\n",
    "ss"
   ]
  },
  {
   "cell_type": "markdown",
   "metadata": {},
   "source": [
    "## трохи більше про вивід\n",
    "- розглядаємо функцію print та як можна форматувати вивід"
   ]
  },
  {
   "cell_type": "code",
   "execution_count": 20,
   "metadata": {},
   "outputs": [
    {
     "name": "stdout",
     "output_type": "stream",
     "text": [
      "Це буде вивидитись\n",
      "Це буде вивидитись 1 Вивід після вставки\n"
     ]
    }
   ],
   "source": [
    "# Спочатку формується текст виводу а потім прінтиться\n",
    "a = \"Це буде вивидитись\"\n",
    "print(a)\n",
    "b = \"Вивід після вставки\"\n",
    "print(a, 1, b)"
   ]
  },
  {
   "cell_type": "code",
   "execution_count": 21,
   "metadata": {},
   "outputs": [],
   "source": [
    "#l = input(\"Введіть своє імя: \")\n",
    "#print(\"Привіт \", l, \" Приємно познайомитись\")"
   ]
  },
  {
   "cell_type": "code",
   "execution_count": 22,
   "metadata": {},
   "outputs": [
    {
     "name": "stdout",
     "output_type": "stream",
     "text": [
      "Початок Це буде вставка! кінець !\n",
      "Початок кінець! Це буде вставка! А може не кінець!\n"
     ]
    }
   ],
   "source": [
    "v = \"Це буде вставка!\"\n",
    "a = \"Початок {} кінець {}\".format(v, \"!\")\n",
    "print(a)\n",
    "b = \"Початок {1} {0} А може не {1}\".format(v, \"кінець!\")\n",
    "print(b)"
   ]
  },
  {
   "cell_type": "code",
   "execution_count": 23,
   "metadata": {},
   "outputs": [
    {
     "name": "stdout",
     "output_type": "stream",
     "text": [
      "Текст та ЦЕ ВСТАВКА після вставки\n"
     ]
    }
   ],
   "source": [
    "a = \"ЦЕ ВСТАВКА\"\n",
    "s = f\"Текст та {a} після вставки\"\n",
    "print(s)"
   ]
  },
  {
   "cell_type": "code",
   "execution_count": 24,
   "metadata": {},
   "outputs": [
    {
     "name": "stdout",
     "output_type": "stream",
     "text": [
      "Один Два Три\n",
      "Один Два Три\n",
      "Один Два Три\n",
      "Один Два Три\n"
     ]
    }
   ],
   "source": [
    "a = \"Один\"\n",
    "b = \"Два\"\n",
    "c = \"Три\"\n",
    "\n",
    "print(a, b, c)\n",
    "print(a + \" \" + b + \" \" + c)\n",
    "print(\"{} {} {}\".format(a, b, c))\n",
    "print(f\"{a} {b} {c}\")"
   ]
  },
  {
   "cell_type": "markdown",
   "metadata": {},
   "source": [
    " ### Вбудовані константи та функції\n",
    " - неможна перевизначати константи"
   ]
  },
  {
   "cell_type": "code",
   "execution_count": 25,
   "metadata": {},
   "outputs": [
    {
     "name": "stdout",
     "output_type": "stream",
     "text": [
      "True\n",
      "\n",
      "None\n",
      "Тут відсутнє значення Це пуста стрічка\n",
      "[1, 3, 2, 4]\n",
      "Робимо сортування:  None \n",
      "Вигляд після сортування:  [1, 2, 3, 4]\n"
     ]
    }
   ],
   "source": [
    "false = False\n",
    "# змінні чутливі до регістру тому можна зробити подібну змінну\n",
    "print(false == False)\n",
    "\n",
    "a = \"\" # це не є відсутність значення\n",
    "print(a)\n",
    "\n",
    "def fun_name():\n",
    "    return\n",
    "\n",
    "print(fun_name())\n",
    "\n",
    "d = {\"ключ\": None, None: \"Тут відсутнє значення\", \"\": \"Це пуста стрічка\"}\n",
    "\n",
    "print(d[None], d[\"\"])\n",
    "\n",
    "l = [1, 3, 2, 4]\n",
    "print(l)\n",
    "print(\"Робимо сортування: \", l.sort(), \"\\nВигляд після сортування: \", l)"
   ]
  },
  {
   "cell_type": "markdown",
   "metadata": {},
   "source": [
    "- вбудовані функції можна використовувати зразу у Пайтон\n",
    "- а інші функції які знаходяться у бібліотеках потрібно спочатку імпортувати"
   ]
  },
  {
   "cell_type": "code",
   "execution_count": 26,
   "metadata": {},
   "outputs": [
    {
     "name": "stdout",
     "output_type": "stream",
     "text": [
      "3.141592653589793\n",
      "1.0\n"
     ]
    }
   ],
   "source": [
    "from math import cos, pi\n",
    "\n",
    "print(pi)\n",
    "print(cos(2 * pi))"
   ]
  },
  {
   "cell_type": "code",
   "execution_count": 27,
   "metadata": {},
   "outputs": [],
   "source": [
    "#i = int(input(\"Введіть число: \"))\n",
    "#print(f\"Було введено {i}, яке є типом {type(i)}, і тепер можна додати 1 = {i + 1}\")"
   ]
  },
  {
   "cell_type": "markdown",
   "metadata": {},
   "source": [
    "### Починаємо циклити\n",
    "- `for` та `while`\n",
    "- for - ітераційний цикл\n",
    "- while - умовний цикл - тут може бути проблема безкінецноо циклу\n",
    "- `break` використовується щоб перервати цикл\n",
    "- `continue` використовується щоб пропустити якусь ітерацію в циклі"
   ]
  },
  {
   "cell_type": "code",
   "execution_count": 28,
   "metadata": {},
   "outputs": [
    {
     "name": "stdout",
     "output_type": "stream",
     "text": [
      "По ключу a буде виведено:  1\n",
      "По ключу b буде виведено:  1\n",
      "По ключу c буде виведено:  [1, 2]\n"
     ]
    }
   ],
   "source": [
    "for i in d2.keys():\n",
    "    print(f\"По ключу {i} буде виведено: \", d2[i])"
   ]
  },
  {
   "cell_type": "markdown",
   "metadata": {},
   "source": [
    "- спробуємо ітераційним методом знайти корені рівняння\n",
    "- x**2 + 2*x - 2 = 0"
   ]
  },
  {
   "cell_type": "code",
   "execution_count": 29,
   "metadata": {},
   "outputs": [
    {
     "name": "stdout",
     "output_type": "stream",
     "text": [
      "Проміжний розязок:  1.0\n",
      "Проміжний розязок:  0.5\n",
      "Проміжний розязок:  0.875\n",
      "Проміжний розязок:  0.6171875\n",
      "Проміжний розязок:  0.809539794921875\n",
      "Проміжний розязок:  0.6723226602189243\n",
      "Проміжний розязок:  0.7739911202780745\n",
      "Проміжний розязок:  0.7004688728653456\n",
      "Проміжний розязок:  0.7546716790733761\n",
      "Проміжний розязок:  0.7152353284022857\n",
      "Проміжний розязок:  0.7442192125026372\n",
      "Проміжний розязок:  0.7230688818709772\n",
      "Проміжний розязок:  0.7385856960349274\n",
      "Проміжний розязок:  0.7272455848063009\n",
      "Проміжний розязок:  0.7355569296898707\n",
      "Проміжний розязок:  0.7294780015926052\n",
      "Проміжний розязок:  0.7339309225962295\n",
      "Проміжний розязок:  0.7306727004285236\n",
      "Проміжний розязок:  0.7330587024242445\n",
      "Проміжний розязок:  0.7313124694000415\n",
      "Проміжний розязок:  0.7325910360500067\n",
      "Проміжний розязок:  0.7316551869495889\n",
      "Проміжний розязок:  0.7323403437048811\n",
      "Проміжний розязок:  0.7318388104911083\n",
      "Проміжний розязок:  0.7322059777294798\n",
      "Проміжний розязок:  0.7319372030886082\n",
      "Проміжний розязок:  0.7321339653674128\n",
      "Проміжний розязок:  0.731989928377694\n",
      "Проміжний розязок:  0.7320953723768091\n",
      "Проміжний розязок:  0.7320181828722305\n",
      "Розвязок:  0.7320181828722305\n"
     ]
    }
   ],
   "source": [
    "x = 0\n",
    "x0 = []\n",
    "x1 = []\n",
    "\n",
    "for i in range(30):\n",
    "    x1.append(x)\n",
    "    xi = (-x**2 + 2) / 2\n",
    "    x0.append(xi)\n",
    "    print(\"Проміжний розязок: \", xi)\n",
    "    if x == xi:\n",
    "        print(\"Ми знайшли розвязок\", xi)\n",
    "        break\n",
    "    x = xi\n",
    "\n",
    "print(\"Розвязок: \", x)"
   ]
  },
  {
   "cell_type": "code",
   "execution_count": 30,
   "metadata": {},
   "outputs": [
    {
     "data": {
      "text/plain": [
       "-0.00017600000000017602"
      ]
     },
     "execution_count": 30,
     "metadata": {},
     "output_type": "execute_result"
    }
   ],
   "source": [
    "0.732**2 + 2*(0.732) - 2"
   ]
  },
  {
   "cell_type": "code",
   "execution_count": 31,
   "metadata": {},
   "outputs": [
    {
     "data": {
      "image/png": "[encoded data removed]",
      "text/plain": [
       "<Figure size 640x480 with 1 Axes>"
      ]
     },
     "metadata": {},
     "output_type": "display_data"
    }
   ],
   "source": [
    "import matplotlib.pyplot as plt\n",
    "plt.plot(x0)\n",
    "plt.plot(x1)\n",
    "plt.show()"
   ]
  },
  {
   "cell_type": "markdown",
   "metadata": {},
   "source": [
    "- для циклів часто використовуються згенеровані проміжки або набори даних (по яких здійснюється ітерація)\n",
    "- найбільш вживаною є функція `range`\n",
    "- range можна перетворити в список і доступатись до його елентів"
   ]
  },
  {
   "cell_type": "code",
   "execution_count": 32,
   "metadata": {},
   "outputs": [
    {
     "name": "stdout",
     "output_type": "stream",
     "text": [
      "9 5 9 4 10\n"
     ]
    },
    {
     "data": {
      "text/plain": [
       "[0, 1, 2, 3, 4, 5, 6, 7, 8, 9]"
      ]
     },
     "execution_count": 32,
     "metadata": {},
     "output_type": "execute_result"
    }
   ],
   "source": [
    "i = range(10)\n",
    "j = range(5, 10)\n",
    "k = range(2, 11, 2)\n",
    "print(i[-1], j[0], j[-1], k[1], k[-1])\n",
    "\n",
    "l = list(i)\n",
    "l"
   ]
  },
  {
   "cell_type": "code",
   "execution_count": 33,
   "metadata": {},
   "outputs": [
    {
     "name": "stdout",
     "output_type": "stream",
     "text": [
      "+ Це перший цикл: 0\n",
      "- Це другий цикл: 5\n",
      "- Це другий цикл: 6\n",
      "- Це другий цикл: 7\n",
      "- Це другий цикл: 8\n",
      "- Це другий цикл: 9\n",
      "+ Це перший цикл: 1\n",
      "- Це другий цикл: 5\n",
      "- Це другий цикл: 6\n",
      "- Це другий цикл: 7\n",
      "- Це другий цикл: 8\n",
      "- Це другий цикл: 9\n",
      "+ Це перший цикл: 2\n",
      "- Це другий цикл: 5\n",
      "- Це другий цикл: 6\n",
      "- Це другий цикл: 7\n",
      "- Це другий цикл: 8\n",
      "- Це другий цикл: 9\n",
      "+ Це перший цикл: 3\n",
      "- Це другий цикл: 5\n",
      "- Це другий цикл: 6\n",
      "- Це другий цикл: 7\n",
      "- Це другий цикл: 8\n",
      "- Це другий цикл: 9\n",
      "+ Це перший цикл: 4\n",
      "- Це другий цикл: 5\n",
      "- Це другий цикл: 6\n",
      "- Це другий цикл: 7\n",
      "- Це другий цикл: 8\n",
      "- Це другий цикл: 9\n",
      "+ Це перший цикл: 5\n",
      "- Це другий цикл: 5\n",
      "- Це другий цикл: 6\n",
      "- Це другий цикл: 7\n",
      "- Це другий цикл: 8\n",
      "- Це другий цикл: 9\n",
      "+ Це перший цикл: 6\n",
      "- Це другий цикл: 5\n",
      "- Це другий цикл: 6\n",
      "- Це другий цикл: 7\n",
      "- Це другий цикл: 8\n",
      "- Це другий цикл: 9\n",
      "+ Це перший цикл: 7\n",
      "- Це другий цикл: 5\n",
      "- Це другий цикл: 6\n",
      "- Це другий цикл: 7\n",
      "- Це другий цикл: 8\n",
      "- Це другий цикл: 9\n",
      "+ Це перший цикл: 8\n",
      "- Це другий цикл: 5\n",
      "- Це другий цикл: 6\n",
      "- Це другий цикл: 7\n",
      "- Це другий цикл: 8\n",
      "- Це другий цикл: 9\n",
      "+ Це перший цикл: 9\n",
      "- Це другий цикл: 5\n",
      "- Це другий цикл: 6\n",
      "- Це другий цикл: 7\n",
      "- Це другий цикл: 8\n",
      "- Це другий цикл: 9\n"
     ]
    }
   ],
   "source": [
    "for c in i:\n",
    "    print(f\"+ Це перший цикл: {c}\")\n",
    "    for p in j:\n",
    "        print(f\"- Це другий цикл: {p}\")"
   ]
  },
  {
   "cell_type": "markdown",
   "metadata": {},
   "source": [
    "- а як можна використати `while` щоб також пройтись по елементах списку?"
   ]
  },
  {
   "cell_type": "code",
   "execution_count": 34,
   "metadata": {},
   "outputs": [
    {
     "name": "stdout",
     "output_type": "stream",
     "text": [
      "+ Це перший цикл: 0\n",
      "- Це другий цикл: 5\n",
      "- Це другий цикл: 6\n",
      "- Це другий цикл: 7\n",
      "- Це другий цикл: 8\n",
      "- Це другий цикл: 9\n",
      "+ Це перший цикл: 1\n",
      "- Це другий цикл: 5\n",
      "- Це другий цикл: 6\n",
      "- Це другий цикл: 7\n",
      "- Це другий цикл: 8\n",
      "- Це другий цикл: 9\n",
      "+ Це перший цикл: 2\n",
      "- Це другий цикл: 5\n",
      "- Це другий цикл: 6\n",
      "- Це другий цикл: 7\n",
      "- Це другий цикл: 8\n",
      "- Це другий цикл: 9\n",
      "+ Це перший цикл: 3\n",
      "- Це другий цикл: 5\n",
      "- Це другий цикл: 6\n",
      "- Це другий цикл: 7\n",
      "- Це другий цикл: 8\n",
      "- Це другий цикл: 9\n",
      "+ Це перший цикл: 4\n",
      "- Це другий цикл: 5\n",
      "- Це другий цикл: 6\n",
      "- Це другий цикл: 7\n",
      "- Це другий цикл: 8\n",
      "- Це другий цикл: 9\n",
      "+ Це перший цикл: 5\n",
      "- Це другий цикл: 5\n",
      "- Це другий цикл: 6\n",
      "- Це другий цикл: 7\n",
      "- Це другий цикл: 8\n",
      "- Це другий цикл: 9\n",
      "+ Це перший цикл: 6\n",
      "- Це другий цикл: 5\n",
      "- Це другий цикл: 6\n",
      "- Це другий цикл: 7\n",
      "- Це другий цикл: 8\n",
      "- Це другий цикл: 9\n",
      "+ Це перший цикл: 7\n",
      "- Це другий цикл: 5\n",
      "- Це другий цикл: 6\n",
      "- Це другий цикл: 7\n",
      "- Це другий цикл: 8\n",
      "- Це другий цикл: 9\n",
      "+ Це перший цикл: 8\n",
      "- Це другий цикл: 5\n",
      "- Це другий цикл: 6\n",
      "- Це другий цикл: 7\n",
      "- Це другий цикл: 8\n",
      "- Це другий цикл: 9\n",
      "+ Це перший цикл: 9\n",
      "- Це другий цикл: 5\n",
      "- Це другий цикл: 6\n",
      "- Це другий цикл: 7\n",
      "- Це другий цикл: 8\n",
      "- Це другий цикл: 9\n"
     ]
    }
   ],
   "source": [
    "c = 0\n",
    "while c < len(i):\n",
    "    print(f\"+ Це перший цикл: {i[c]}\")\n",
    "    c+=1\n",
    "    p = 0\n",
    "    while p < len(j):\n",
    "        print(f\"- Це другий цикл: {j[p]}\")\n",
    "        p+=1"
   ]
  },
  {
   "cell_type": "markdown",
   "metadata": {},
   "source": [
    "- `while` - оскільки це умовний цикл дуже легко написати умову яка буде безкінечною\n",
    "- але щоб всетаки колись вийти з циклу ми використаємо умову `break`"
   ]
  },
  {
   "cell_type": "code",
   "execution_count": 35,
   "metadata": {},
   "outputs": [
    {
     "name": "stdout",
     "output_type": "stream",
     "text": [
      "1) На кубику випало число 4\n",
      "2) На кубику випало число 4\n",
      "3) На кубику випало число 1\n",
      "4) На кубику випало число 3\n",
      "5) На кубику випало число 5\n",
      "Нарешті нам повело випало число 5 через 5 разів\n"
     ]
    }
   ],
   "source": [
    "from random import randint, seed\n",
    "\n",
    "seed(0)\n",
    "'''\n",
    "    за допомогою такої привязки наша випадкова послідовність буде випадковою, \n",
    "    але лише раз!\n",
    "    перегенерюючи цю комірку - числа будуть ті самі\n",
    "'''\n",
    "\n",
    "k = 0\n",
    "while True: # це першиа умова і вона у нас є безкінечною\n",
    "    k += 1\n",
    "    c = randint(1, 6)\n",
    "    print(f\"{k}) На кубику випало число {c}\")\n",
    "    if c == 5: # це додаткова умова виходу з циклу\n",
    "        print(f\"Нарешті нам повело випало число {c} через {k} разів\")\n",
    "        break"
   ]
  },
  {
   "cell_type": "markdown",
   "metadata": {},
   "source": [
    "- тут спробуємо виключити всі результати коли нам випадає кубик 5\n",
    "- основне правило в умовах - робити їх простими і зрозумілими. Уникати зворотних негативних формулювань, для прикладу `if A != B`"
   ]
  },
  {
   "cell_type": "code",
   "execution_count": 36,
   "metadata": {},
   "outputs": [
    {
     "name": "stdout",
     "output_type": "stream",
     "text": [
      "1) Це ніколи не виведеться якщо у нас випаде число 5! Випало 4\n",
      "2) Це ніколи не виведеться якщо у нас випаде число 5! Випало 4\n",
      "3) Це ніколи не виведеться якщо у нас випаде число 5! Випало 3\n",
      "4) Це ніколи не виведеться якщо у нас випаде число 5! Випало 4\n",
      "5) Це ніколи не виведеться якщо у нас випаде число 5! Випало 3\n",
      "7) Це ніколи не виведеться якщо у нас випаде число 5! Випало 2\n",
      "9) Це ніколи не виведеться якщо у нас випаде число 5! Випало 2\n",
      "10) Це ніколи не виведеться якщо у нас випаде число 5! Випало 3\n",
      "11) Це ніколи не виведеться якщо у нас випаде число 5! Випало 2\n",
      "12) Це ніколи не виведеться якщо у нас випаде число 5! Випало 1\n",
      "14) Це ніколи не виведеться якщо у нас випаде число 5! Випало 3\n",
      "16) Це ніколи не виведеться якщо у нас випаде число 5! Випало 6\n",
      "18) Це ніколи не виведеться якщо у нас випаде число 5! Випало 2\n",
      "19) Це ніколи не виведеться якщо у нас випаде число 5! Випало 3\n",
      "20) Це ніколи не виведеться якщо у нас випаде число 5! Випало 1\n",
      "21) Це ніколи не виведеться якщо у нас випаде число 5! Випало 6\n",
      "22) Це ніколи не виведеться якщо у нас випаде число 5! Випало 1\n",
      "23) Це ніколи не виведеться якщо у нас випаде число 5! Випало 6\n",
      "24) Це ніколи не виведеться якщо у нас випаде число 5! Випало 3\n",
      "25) Це ніколи не виведеться якщо у нас випаде число 5! Випало 4\n",
      "27) Це ніколи не виведеться якщо у нас випаде число 5! Випало 1\n",
      "28) Це ніколи не виведеться якщо у нас випаде число 5! Випало 3\n",
      "29) Це ніколи не виведеться якщо у нас випаде число 5! Випало 4\n",
      "30) Це ніколи не виведеться якщо у нас випаде число 5! Випало 3\n",
      "Число 5 ми пропустили 6 разів!\n"
     ]
    }
   ],
   "source": [
    "a = 0\n",
    "for c in range(30):\n",
    "    k = randint(1, 6)\n",
    "    if k == 5:\n",
    "        a += 1\n",
    "        continue\n",
    "    print(f\"{c+1}) Це ніколи не виведеться якщо у нас випаде число 5! Випало {k}\")\n",
    " \n",
    "print(f\"Число 5 ми пропустили {a} разів!\")"
   ]
  },
  {
   "cell_type": "markdown",
   "metadata": {},
   "source": [
    "- Купили пачку M&Ms в якій 30 штучок які ми починаємо їсти \n",
    "- напишемо це код за допомогою for та while"
   ]
  },
  {
   "cell_type": "code",
   "execution_count": 37,
   "metadata": {},
   "outputs": [
    {
     "name": "stdout",
     "output_type": "stream",
     "text": [
      "30\n",
      "Ми витягнули зелений Ммдемску та зїли\n",
      "Ми витягнули червоний Ммдемску та зїли\n",
      "Ми витягнули жовтий Ммдемску та зїли\n",
      "Ми витягнули оранжевий Ммдемску та зїли\n",
      "Ми витягнули оранжевий Ммдемску та зїли\n",
      "Ми витягнули корчневий Ммдемску та зїли\n",
      "Ми витягнули червоний Ммдемску та зїли\n",
      "Ми витягнули зелений Ммдемску та зїли\n",
      "Ми витягнули оранжевий Ммдемску та зїли\n",
      "Ми витягнули жовтий Ммдемску та зїли\n",
      "Ми витягнули зелений Ммдемску та зїли\n",
      "Ми витягнули корчневий Ммдемску та зїли\n",
      "Ми витягнули зелений Ммдемску та зїли\n",
      "Ми витягнули корчневий Ммдемску та зїли\n",
      "Ми витягнули оранжевий Ммдемску та зїли\n",
      "Ми витягнули оранжевий Ммдемску та зїли\n",
      "Ми витягнули синій Ммдемску та зїли\n",
      "Ми витягнули корчневий Ммдемску та зїли\n",
      "Ми витягнули синій Ммдемску та зїли\n",
      "Ми витягнули корчневий Ммдемску та зїли\n",
      "Ми витягнули оранжевий Ммдемску та зїли\n",
      "Ми витягнули зелений Ммдемску та зїли\n",
      "Ми витягнули червоний Ммдемску та зїли\n",
      "Ми витягнули оранжевий Ммдемску та зїли\n",
      "Ми витягнули корчневий Ммдемску та зїли\n",
      "Ми витягнули червоний Ммдемску та зїли\n",
      "Ми витягнули зелений Ммдемску та зїли\n",
      "Ми витягнули оранжевий Ммдемску та зїли\n",
      "Ми витягнули червоний Ммдемску та зїли\n",
      "Ми витягнули жовтий Ммдемску та зїли\n"
     ]
    }
   ],
   "source": [
    "mmd = [\"червоний\", \"жовтий\", \"зелений\", \"синій\", \"корчневий\", \"оранжевий\"]\n",
    "from random import shuffle\n",
    "\n",
    "pack = mmd * 100\n",
    "shuffle(pack)\n",
    "print(len(pack[0:30]))\n",
    "\n",
    "for m in pack[0:30]: #використаємо слайсінг у списках\n",
    "    print(f\"Ми витягнули {m} Ммдемску та зїли\")"
   ]
  },
  {
   "cell_type": "code",
   "execution_count": 38,
   "metadata": {},
   "outputs": [
    {
     "name": "stdout",
     "output_type": "stream",
     "text": [
      "30\n",
      "Ми витягнули жовтий Ммдемску та зїли\n",
      "Ми витягнули зелений Ммдемску та зїли\n",
      "Ми витягнули червоний Ммдемску та зїли\n",
      "Ми витягнули зелений Ммдемску та зїли\n",
      "Ми витягнули жовтий Ммдемску та зїли\n",
      "Ми витягнули синій Ммдемску та зїли\n",
      "Ми витягнули корчневий Ммдемску та зїли\n",
      "Ми витягнули оранжевий Ммдемску та зїли\n",
      "Ми витягнули червоний Ммдемску та зїли\n",
      "Ми витягнули синій Ммдемску та зїли\n",
      "Ми витягнули червоний Ммдемску та зїли\n",
      "Ми витягнули зелений Ммдемску та зїли\n",
      "Ми витягнули жовтий Ммдемску та зїли\n",
      "Ми витягнули червоний Ммдемску та зїли\n",
      "Ми витягнули корчневий Ммдемску та зїли\n",
      "Ми витягнули оранжевий Ммдемску та зїли\n",
      "Ми витягнули жовтий Ммдемску та зїли\n",
      "Ми витягнули корчневий Ммдемску та зїли\n",
      "Ми витягнули жовтий Ммдемску та зїли\n",
      "Ми витягнули синій Ммдемску та зїли\n",
      "Ми витягнули червоний Ммдемску та зїли\n",
      "Ми витягнули червоний Ммдемску та зїли\n",
      "Ми витягнули червоний Ммдемску та зїли\n",
      "Ми витягнули червоний Ммдемску та зїли\n",
      "Ми витягнули червоний Ммдемску та зїли\n",
      "Ми витягнули синій Ммдемску та зїли\n",
      "Ми витягнули зелений Ммдемску та зїли\n",
      "Ми витягнули жовтий Ммдемску та зїли\n",
      "Ми витягнули оранжевий Ммдемску та зїли\n",
      "Ми витягнули зелений Ммдемску та зїли\n"
     ]
    }
   ],
   "source": [
    "ii = pack[30:60]\n",
    "print(len(ii))\n",
    "while ii:\n",
    "    print(f\"Ми витягнули {ii.pop(0)} Ммдемску та зїли\")"
   ]
  },
  {
   "cell_type": "markdown",
   "metadata": {},
   "source": [
    "- в класичному представлення циклів є конструукція for або while яка виконує тіло циклу\n",
    "- існує методистворення списків за допомогою однієї стрічки (one-liners) або так званий методи list comprehantion"
   ]
  },
  {
   "cell_type": "code",
   "execution_count": 39,
   "metadata": {},
   "outputs": [
    {
     "name": "stdout",
     "output_type": "stream",
     "text": [
      "[0, 1, 2, 3, 4, 5, 6, 7, 8, 9]\n",
      "[0, 1, 2, 3, 4, 5, 6, 7, 8, 9]\n",
      "[0, 1, 2, 3, 4, 5, 6, 7, 8, 9]\n"
     ]
    }
   ],
   "source": [
    "r = range(10)\n",
    "print(list(r))\n",
    "\n",
    "i = 0\n",
    "R = []\n",
    "while i < 10:\n",
    "   R.append(i)\n",
    "   i+=1\n",
    "\n",
    "print(R)\n",
    "\n",
    "Rl = [i for i in range(10)]\n",
    "print(Rl)"
   ]
  },
  {
   "cell_type": "code",
   "execution_count": 40,
   "metadata": {},
   "outputs": [
    {
     "name": "stdout",
     "output_type": "stream",
     "text": [
      "Мені попалась червоний Ммдемска\n",
      "Мені попалась жовтий Ммдемска\n",
      "Мені попалась зелений Ммдемска\n",
      "Мені попалась синій Ммдемска\n",
      "Мені попалась корчневий Ммдемска\n",
      "Мені попалась оранжевий Ммдемска\n"
     ]
    }
   ],
   "source": [
    "shuffle(mmd)\n",
    "\n",
    "for m in mmd:\n",
    "    print(f\"Мені попалась {m} Ммдемска\")"
   ]
  },
  {
   "cell_type": "code",
   "execution_count": 41,
   "metadata": {},
   "outputs": [
    {
     "name": "stdout",
     "output_type": "stream",
     "text": [
      "['Мені попалась червоний Ммдемска', 'Мені попалась жовтий Ммдемска', 'Мені попалась зелений Ммдемска', 'Мені попалась синій Ммдемска', 'Мені попалась корчневий Ммдемска', 'Мені попалась оранжевий Ммдемска']\n"
     ]
    }
   ],
   "source": [
    "print([f\"Мені попалась {m} Ммдемска\" for m in mmd])"
   ]
  },
  {
   "cell_type": "markdown",
   "metadata": {},
   "source": [
    "### Розгалуження\n",
    "- вибираємо конкретну гілку та команди які будуть виконуватись в залежності від вхідної умови\n",
    "- умовою буде будь-який вираз який дає булевий результат\n",
    "- істиною в умовах вважається будь-що крім False або 0 або None\n",
    "- ми можемо лише викликати if без конструкції else, Це робиться коли нам не потрібно розгалуження а просто виконати конкретну операції лише за настання умови"
   ]
  },
  {
   "cell_type": "code",
   "execution_count": 42,
   "metadata": {},
   "outputs": [
    {
     "name": "stdout",
     "output_type": "stream",
     "text": [
      "Це буде виводитись завжди\n"
     ]
    }
   ],
   "source": [
    "if True:\n",
    "    print(\"Це буде виводитись завжди\")\n",
    "else:\n",
    "    print(\"Це ніколи не виконаєтья якщо умова буде True\")"
   ]
  },
  {
   "cell_type": "code",
   "execution_count": 43,
   "metadata": {},
   "outputs": [
    {
     "name": "stdout",
     "output_type": "stream",
     "text": [
      "Це виконається завжди\n",
      "Продовжуємо виконання програми\n"
     ]
    }
   ],
   "source": [
    "print(\"Це виконається завжди\")\n",
    "if i < 5:\n",
    "    print(\"Це виконається за умов\")\n",
    "\n",
    "print(\"Продовжуємо виконання програми\")\n"
   ]
  },
  {
   "cell_type": "code",
   "execution_count": 44,
   "metadata": {},
   "outputs": [
    {
     "name": "stdout",
     "output_type": "stream",
     "text": [
      "Отримали 6 що є більше 5\n"
     ]
    }
   ],
   "source": [
    "def example(a):\n",
    "    if a > 5:\n",
    "        print(f\"Отримали {a} що є більше 5\")\n",
    "        return\n",
    "    \n",
    "    print(f\"{a} є менше 5\")\n",
    "\n",
    "example(6)"
   ]
  },
  {
   "cell_type": "markdown",
   "metadata": {},
   "source": [
    "### Обробка помилок\n",
    "- існують синтаксичні помилки, які дуже легко відстежуються так званими Linters, як приклад, цей код дасть помилку `a = \"2`\n",
    "- може бути деже велика кількість помилок які не можна побачити перед тим як ми будемо виконувати код\n",
    "- у випадках коли помилка не явна або виникає при певних умовах або взагалі випадково використовують конструкцію try - except\n",
    "- у загальному випадку ми виловлюємо всі помилки, але можемо конкретизувати"
   ]
  },
  {
   "cell_type": "code",
   "execution_count": 45,
   "metadata": {},
   "outputs": [
    {
     "name": "stdout",
     "output_type": "stream",
     "text": [
      "Неможна додавати стрічку до числа! Спочатку перетвортіть в єдиний тип.\n"
     ]
    }
   ],
   "source": [
    "try:\n",
    "    # тут буде код де можлива помилка\n",
    "    #a = \"2\" + 2\n",
    "    b = 2 / 0\n",
    "except:\n",
    "    # тут буде обробник у випадку якщо виникла помилка\n",
    "    print(\"Неможна додавати стрічку до числа! Спочатку перетвортіть в єдиний тип.\")\n"
   ]
  },
  {
   "cell_type": "code",
   "execution_count": 46,
   "metadata": {},
   "outputs": [
    {
     "name": "stdout",
     "output_type": "stream",
     "text": [
      "Виникла помилка can only concatenate str (not \"int\") to str.\n"
     ]
    }
   ],
   "source": [
    "from random import choice\n",
    "def div_error():\n",
    "    return 2/0\n",
    "def add_error():\n",
    "    return \"1\" + 1\n",
    "def int_error():\n",
    "    return 1 + \"1\"\n",
    "def ind_error():\n",
    "    i = [1,2]\n",
    "    return i[5]\n",
    "\n",
    "try:\n",
    "    a = choice([add_error, div_error, int_error, ind_error])\n",
    "    a()\n",
    "except (ZeroDivisionError, TypeError) as e:\n",
    "    print(f\"Виникла помилка {e}.\")\n",
    "\n"
   ]
  },
  {
   "cell_type": "markdown",
   "metadata": {},
   "source": [
    "- можна зробити дуже загальний обробник який виловлює будь-які помилки"
   ]
  },
  {
   "cell_type": "code",
   "execution_count": 47,
   "metadata": {},
   "outputs": [
    {
     "name": "stdout",
     "output_type": "stream",
     "text": [
      "Узагальнена помилка: 'Ми самі створили помилку неправильного ключа!'\n"
     ]
    }
   ],
   "source": [
    "try:\n",
    "    raise(KeyError(\"Ми самі створили помилку неправильного ключа!\"))\n",
    "    i = [1,2]\n",
    "    print(\"Доступаємось до неіснуючого індекса: \", i[5])\n",
    "except Exception as e:\n",
    "    print(f\"Узагальнена помилка: {e}\")"
   ]
  },
  {
   "cell_type": "markdown",
   "metadata": {},
   "source": [
    "- може бути ще додатковий елемент цієї конструкції finally\n",
    "- це є так званий очищувач після помилки який виконується завжди не залежно від того чи помилка була чи ні"
   ]
  },
  {
   "cell_type": "code",
   "execution_count": 48,
   "metadata": {},
   "outputs": [
    {
     "name": "stdout",
     "output_type": "stream",
     "text": [
      "Помилки немає\n",
      "Викликається завжди, після помилки або якщо її не було\n"
     ]
    }
   ],
   "source": [
    "try:\n",
    "     #raise(ValueError(\"помилка\".capitalize()))\n",
    "     print(\"Помилки немає\")\n",
    "except:\n",
    "    print(\"Обробник після настання помилки\")\n",
    "finally:\n",
    "    print(\"Викликається завжди, після помилки або якщо її не було\")"
   ]
  },
  {
   "cell_type": "markdown",
   "metadata": {},
   "source": [
    "### Контекст менеджери\n",
    "- є багато застосунків які вимагають узгодженої взаємодії \n",
    "- для прикладу це робота з файлами - відкриваєте файли, працюєте з ним та закриваєте його"
   ]
  },
  {
   "cell_type": "code",
   "execution_count": 49,
   "metadata": {},
   "outputs": [
    {
     "name": "stdout",
     "output_type": "stream",
     "text": [
      "7\n"
     ]
    }
   ],
   "source": [
    "f = open(\"text.txt\", \"w\")\n",
    "print(f.write(\"Початок\"))\n",
    "f.close()"
   ]
  },
  {
   "cell_type": "code",
   "execution_count": 50,
   "metadata": {},
   "outputs": [
    {
     "name": "stdout",
     "output_type": "stream",
     "text": [
      "['Це дописали в кінець']\n"
     ]
    }
   ],
   "source": [
    "fn = open(\"text.txt\", \"w\")\n",
    "fn.write(\"Це дописали в кінець\")\n",
    "fn.close()\n",
    "fn = open(\"text.txt\", \"r\")\n",
    "print(fn.readlines())\n",
    "fn.close()"
   ]
  },
  {
   "cell_type": "markdown",
   "metadata": {},
   "source": [
    "- щоб ми не забували узгоджено працювати з файли існують контекст менеджери\n",
    "- за допомогою ни ми узгоджено відкриваємо та закриваємо файл з яким працюємо"
   ]
  },
  {
   "cell_type": "code",
   "execution_count": 51,
   "metadata": {},
   "outputs": [
    {
     "name": "stdout",
     "output_type": "stream",
     "text": [
      "Це дописали в кінець\t0) Додано нову стрічку\n",
      "\n",
      "\t1) Додано нову стрічку\n",
      "\n",
      "\t2) Додано нову стрічку\n",
      "\n",
      "\t3) Додано нову стрічку\n",
      "\n",
      "\t4) Додано нову стрічку\n",
      "\n"
     ]
    }
   ],
   "source": [
    "with open(\"text.txt\", \"a\") as f:\n",
    "    for i in range(5):\n",
    "        f.write(f\"\\t{i}) Додано нову стрічку\\n\")\n",
    "\n",
    "with open(\"text.txt\") as f:\n",
    "    #  поки ми знаходисмось в тілі контекст менеджера ми можемо працювати з файлом\n",
    "    for line in f:\n",
    "        print(line)\n",
    "\n",
    "with open(\"text.txt\", \"w\")as f:\n",
    "    f.write(\"Кінець\")"
   ]
  },
  {
   "cell_type": "markdown",
   "metadata": {},
   "source": [
    "### Розглядаємо Lambdas\n",
    "- розглянумо спершу функції - блок коду, найчастіше який повторюється, який винесений в окрему чатину програми\n",
    "- кожна функція у Пайтон є обєктом\n",
    "- функція може існувати у двох станах, просто як функція і викликана функція\n",
    "- безіменні функції мають такі ж властивості як основні функції або мають дещо специфічний запис\n",
    "\n",
    "```python\n",
    "def function_name(function_arguments):\n",
    "    # Виклик команд\n",
    "    return # тут функція повертає результат\n",
    "```"
   ]
  },
  {
   "cell_type": "code",
   "execution_count": 52,
   "metadata": {},
   "outputs": [
    {
     "name": "stdout",
     "output_type": "stream",
     "text": [
      "12 <class 'str'>\n"
     ]
    }
   ],
   "source": [
    "def add_xy(x:int, y:float) -> float:\n",
    "    return x + y\n",
    "\n",
    "z = add_xy('1', '2')\n",
    "print(z, type(z))\n",
    "\n",
    "# z = add_xy('1', 2.1) # ЦЕй вираз буде давати помилку\n"
   ]
  },
  {
   "cell_type": "code",
   "execution_count": 53,
   "metadata": {},
   "outputs": [
    {
     "name": "stdout",
     "output_type": "stream",
     "text": [
      "Це є просто функція <function add_xy at 0x1088820c0> А це її виклик 2.1\n",
      "Просто функція <function pass_fun at 0x1088823e0> Викликана функція у функції 4.2\n",
      "<function add_xy at 0x1088820c0>\n"
     ]
    }
   ],
   "source": [
    "print(\"Це є просто функція\", add_xy, \"А це її виклик\", add_xy(1, 1.1))\n",
    "\n",
    "def pass_fun(a):\n",
    "    return a(2, 2.2)\n",
    "\n",
    "print(\"Просто функція\", pass_fun, \"Викликана функція у функції\", pass_fun(add_xy))\n",
    "\n",
    "f = add_xy # функцію можна присвоїти змінній\n",
    "print(f)"
   ]
  },
  {
   "cell_type": "code",
   "execution_count": 54,
   "metadata": {},
   "outputs": [
    {
     "name": "stdout",
     "output_type": "stream",
     "text": [
      "Це є невикликана Лямбда <function <lambda> at 0x1088822a0> <function <lambda> at 0x108882160>\n",
      "4 16\n"
     ]
    }
   ],
   "source": [
    "l = lambda x, y: x + y\n",
    "l2 = lambda x: x**2\n",
    "print(\"Це є невикликана Лямбда\", l, l2)\n",
    "\n",
    "# Виклик функції це завжди додавання ()\n",
    "print(l(2, 2), l2(4))\n"
   ]
  },
  {
   "cell_type": "markdown",
   "metadata": {},
   "source": [
    "- ми маємо набір ІР адрес і нам помтрібно відформатувати їх додавши маску"
   ]
  },
  {
   "cell_type": "code",
   "execution_count": 55,
   "metadata": {},
   "outputs": [
    {
     "name": "stdout",
     "output_type": "stream",
     "text": [
      "['Клас IP адреси С, 192.168.1.1/24', 'Клас IP адреси С, 192.168.1.13/24', 'Клас IP адреси С, 192.168.1.5/24', 'Клас IP адреси С, 192.168.1.36/24', 'Клас IP адреси С, 192.168.1.33/24']\n",
      "['Клас IP адреси С, 192.168.1.1/24', 'Клас IP адреси С, 192.168.1.13/24', 'Клас IP адреси С, 192.168.1.5/24', 'Клас IP адреси С, 192.168.1.36/24', 'Клас IP адреси С, 192.168.1.33/24']\n",
      "['Клас IP адреси С, 192.168.1.1/24', 'Клас IP адреси С, 192.168.1.13/24', 'Клас IP адреси С, 192.168.1.5/24', 'Клас IP адреси С, 192.168.1.36/24', 'Клас IP адреси С, 192.168.1.33/24']\n"
     ]
    }
   ],
   "source": [
    "ips = ['192.168.1.1', '192.168.1.13', '192.168.1.5', '192.168.1.36', '192.168.1.33']\n",
    "\n",
    "def add_mask(ip: str):\n",
    "    return f\"Клас IP адреси С, {ip}/24\"\n",
    "\n",
    "l = [add_mask(ip) for ip in ips]\n",
    "print(l)\n",
    "\n",
    "m = map(add_mask, ips)\n",
    "print(list(m))\n",
    "\n",
    "s = map(lambda ip: f\"Клас IP адреси С, {ip}/24\", ips)\n",
    "print(list(s))"
   ]
  },
  {
   "cell_type": "code",
   "execution_count": 56,
   "metadata": {},
   "outputs": [
    {
     "name": "stdout",
     "output_type": "stream",
     "text": [
      "[5, 7, 9, 11, 13]\n"
     ]
    }
   ],
   "source": [
    "k = [add_xy(i, j) for i, j in zip(range(0,5), range(5,10))]\n",
    "print(k)\n"
   ]
  },
  {
   "cell_type": "code",
   "execution_count": 58,
   "metadata": {},
   "outputs": [
    {
     "name": "stdout",
     "output_type": "stream",
     "text": [
      "[5, 7, 9, 11, 13]\n"
     ]
    }
   ],
   "source": [
    "l = [(lambda x=i, y=j: x + y)() for i, j in zip(range(0,5), range(5,10))]\n",
    "print(l)"
   ]
  },
  {
   "cell_type": "code",
   "execution_count": 63,
   "metadata": {},
   "outputs": [
    {
     "name": "stdout",
     "output_type": "stream",
     "text": [
      "Ми зайшли в декоратор\n",
      "Ми вийшли з декоратора\n",
      "Це враппер\n",
      "Вивід з моєї функції\n",
      "Виконання після функції\n"
     ]
    }
   ],
   "source": [
    "def decorator_function(f):\n",
    "    print(\"Ми зайшли в декоратор\")\n",
    "    def wrapper():\n",
    "        print(\"Це враппер\")\n",
    "        f()\n",
    "        print(\"Виконання після функції\")\n",
    "    print(\"Ми вийшли з декоратора\")\n",
    "    return wrapper\n",
    "\n",
    "@decorator_function\n",
    "def my_fun():\n",
    "    print(\"Вивід з моєї функції\")\n",
    "    return\n",
    "\n",
    "my_fun()"
   ]
  }
 ],
 "metadata": {
  "kernelspec": {
   "display_name": "Python 3",
   "language": "python",
   "name": "python3"
  },
  "language_info": {
   "codemirror_mode": {
    "name": "ipython",
    "version": 3
   },
   "file_extension": ".py",
   "mimetype": "text/x-python",
   "name": "python",
   "nbconvert_exporter": "python",
   "pygments_lexer": "ipython3",
   "version": "3.11.1"
  }
 },
 "nbformat": 4,
 "nbformat_minor": 2
}
