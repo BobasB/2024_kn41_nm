{
 "cells": [
  {
   "cell_type": "markdown",
   "metadata": {},
   "source": [
    "# Починаємо програмувати на Пайтон\n",
    "## Типи змінних у Пайтон\n",
    "- стрічкові змінні\n",
    "- попрацювали з функцією `print`\n",
    "- видалили змінну\n",
    "- отримали помилку\n",
    "- написали коментар"
   ]
  },
  {
   "cell_type": "code",
   "execution_count": 1,
   "metadata": {},
   "outputs": [
    {
     "name": "stdout",
     "output_type": "stream",
     "text": [
      "Це буде стрічка яка присвоєна у змінну Це також буде стрічка\n",
      "<class 'str'>\n",
      "Це ніколи не буде виведено\n"
     ]
    }
   ],
   "source": [
    "a = \"Це буде стрічка яка присвоєна у змінну\"\n",
    "b = 'Це також буде стрічка'\n",
    "\n",
    "print(a, b)\n",
    "\n",
    "c_a_b = \"This is string\"\n",
    "\n",
    "t = type(c_a_b)\n",
    "\n",
    "print(t)\n",
    "\n",
    "del c_a_b\n",
    "\n",
    "#print(c_a_b) # це коментар, ця стрічка завжди видає помилку\n",
    "# TODO: це коментар щоб паямтати що цей код не працює та його треба пофіксити\n",
    "\n",
    "print(\"Це ніколи не буде виведено\")"
   ]
  },
  {
   "cell_type": "markdown",
   "metadata": {},
   "source": [
    "### Це помилка яку нам має видавати попередня клітинка якщо ми розкоментуємо код з помилкою\n",
    "```python\n",
    "---------------------------------------------------------------------------\n",
    "NameError                                 Traceback (most recent call last)\n",
    "Cell In[1], line 14\n",
    "     10 print(t)\n",
    "     12 del c_a_b\n",
    "---> 14 print(c_a_b) # це коментар, ця стрічка завжди видає помилку\n",
    "     15 # TODO: це коментар щоб паямтати що цей код не працює та його треба пофіксити\n",
    "     17 print(\"Це ніколи не буде виведено\")\n",
    "\n",
    "NameError: name 'c_a_b' is not defined\n",
    "```"
   ]
  },
  {
   "cell_type": "markdown",
   "metadata": {},
   "source": [
    "- числові змінні\n",
    "- цілі та числа з плаваючою крапкою\n",
    "- подивились які імена можуть бути використані для зміних"
   ]
  },
  {
   "cell_type": "code",
   "execution_count": 2,
   "metadata": {},
   "outputs": [
    {
     "name": "stdout",
     "output_type": "stream",
     "text": [
      "<class 'int'>\n",
      "2.0 <class 'float'>\n",
      "3.0 <class 'float'>\n"
     ]
    }
   ],
   "source": [
    "c_a_b = 1\n",
    "\n",
    "print(type(c_a_b))\n",
    "\n",
    "_ = 2.0\n",
    "print(_, type(_))\n",
    "\n",
    "n_b = 3.0\n",
    "print(n_b, type(n_b))"
   ]
  },
  {
   "cell_type": "code",
   "execution_count": 3,
   "metadata": {},
   "outputs": [
    {
     "data": {
      "text/plain": [
       "33"
      ]
     },
     "execution_count": 3,
     "metadata": {},
     "output_type": "execute_result"
    }
   ],
   "source": [
    "n = 23\n",
    "n # це не буде виведено як вивід комірки\n",
    "m = 33\n",
    "m # а це вже буде навіть якщо ми не задали функцію `print`"
   ]
  },
  {
   "cell_type": "markdown",
   "metadata": {},
   "source": [
    "### Втуп до арифметичних операцій\n",
    "- дадавання двох чисел"
   ]
  },
  {
   "cell_type": "code",
   "execution_count": 4,
   "metadata": {},
   "outputs": [
    {
     "data": {
      "text/plain": [
       "56"
      ]
     },
     "execution_count": 4,
     "metadata": {},
     "output_type": "execute_result"
    }
   ],
   "source": [
    "n+m"
   ]
  },
  {
   "cell_type": "code",
   "execution_count": 5,
   "metadata": {},
   "outputs": [
    {
     "data": {
      "text/plain": [
       "56"
      ]
     },
     "execution_count": 5,
     "metadata": {},
     "output_type": "execute_result"
    }
   ],
   "source": [
    "r = n + m\n",
    "r"
   ]
  },
  {
   "cell_type": "code",
   "execution_count": 6,
   "metadata": {},
   "outputs": [
    {
     "name": "stdout",
     "output_type": "stream",
     "text": [
      "Результат додовання = 56\n"
     ]
    }
   ],
   "source": [
    "print(\"Результат додовання =\", n+m)"
   ]
  },
  {
   "cell_type": "code",
   "execution_count": 7,
   "metadata": {},
   "outputs": [
    {
     "name": "stdout",
     "output_type": "stream",
     "text": [
      "Це буде стрічка яка присвоєна у зміннуЦе також буде стрічка\n",
      "Це початок 3.0 _V_ Це буде стрічка яка присвоєна у змінну Це завершення\n"
     ]
    }
   ],
   "source": [
    "print(a + b)\n",
    "# Це приклад КОНКАТЕНАЦІЇ \n",
    "print(\"Це початок \" + str(n_b) + \" _V_ \" + a + ' Це завершення')"
   ]
  },
  {
   "cell_type": "code",
   "execution_count": 12,
   "metadata": {},
   "outputs": [
    {
     "name": "stdout",
     "output_type": "stream",
     "text": [
      "56 56\n",
      "-10\n"
     ]
    }
   ],
   "source": [
    "c = n + m\n",
    "d = n.__add__(m)\n",
    "print(c, d)\n",
    "f = n.__sub__(m)\n",
    "print(f)\n",
    "\n",
    "s = \"Ми не можемо \"\n",
    "ss = \"відмнімати стрічки\"\n",
    "#s.__sub__()"
   ]
  },
  {
   "cell_type": "markdown",
   "metadata": {},
   "source": [
    "### Колекції даних\n",
    "- списки - `List`\n",
    "- словники - `Dict`"
   ]
  },
  {
   "cell_type": "code",
   "execution_count": 15,
   "metadata": {},
   "outputs": [
    {
     "name": "stdout",
     "output_type": "stream",
     "text": [
      "['a', 'a'] ['1', 1, 2]\n"
     ]
    }
   ],
   "source": [
    "a = \"a\"\n",
    "l = [a, 'a']\n",
    "one = \"1\"\n",
    "one_1 = 1\n",
    "ll = list([one, one_1, 1+one_1])\n",
    "print(l, ll)"
   ]
  },
  {
   "cell_type": "code",
   "execution_count": 16,
   "metadata": {},
   "outputs": [
    {
     "name": "stdout",
     "output_type": "stream",
     "text": [
      "[['a', 'a'], 'a', ['1', 1, 2], ['Це стрічка у списку']]\n"
     ]
    }
   ],
   "source": [
    "l2 = [l, a, ll, [\"Це стрічка у списку\"]]\n",
    "print(l2)"
   ]
  },
  {
   "cell_type": "markdown",
   "metadata": {},
   "source": [
    "- У списку завжди є впорядковані дані, які можуть повторюватись\n",
    "- списки починаються з 0\n",
    "- можемо використовувати негативні індекси для доступу з кінця списку"
   ]
  },
  {
   "cell_type": "code",
   "execution_count": 18,
   "metadata": {},
   "outputs": [
    {
     "name": "stdout",
     "output_type": "stream",
     "text": [
      "['a', 'a']\n",
      "['Це стрічка у списку']\n"
     ]
    }
   ],
   "source": [
    "print(l2[0])\n",
    "print(l2[-1])"
   ]
  },
  {
   "cell_type": "code",
   "execution_count": 20,
   "metadata": {},
   "outputs": [
    {
     "name": "stdout",
     "output_type": "stream",
     "text": [
      "[1, 2, 3, 4, 9]\n",
      "Хочемо видалити елемент на позиції 0, яким буде:  1\n",
      "[2, 3, 4, 9]\n"
     ]
    }
   ],
   "source": [
    "l3 = [1,2,3,4]\n",
    "l3.append(9)\n",
    "print(l3)\n",
    "print(\"Хочемо видалити елемент на позиції 0, яким буде: \", l3[0])\n",
    "l3.pop(0)\n",
    "print(l3)"
   ]
  },
  {
   "cell_type": "code",
   "execution_count": 26,
   "metadata": {},
   "outputs": [
    {
     "name": "stdout",
     "output_type": "stream",
     "text": [
      "Зараз у списку є:  7 А довжина даного списку буде:  23\n"
     ]
    }
   ],
   "source": [
    "l3.append(6)\n",
    "l3.append(6)\n",
    "l3.append(7)\n",
    "l3.append(7)\n",
    "l3.remove(6)\n",
    "print(\"Зараз у списку є: \", l3.count(6), \"А довжина даного списку буде: \", len(l3))"
   ]
  },
  {
   "cell_type": "code",
   "execution_count": 30,
   "metadata": {},
   "outputs": [
    {
     "name": "stdout",
     "output_type": "stream",
     "text": [
      "[1, 2, 3, 4]\n"
     ]
    }
   ],
   "source": [
    "l1 = [1, 2]\n",
    "l2 = [3, 4]\n",
    "print(l1+l2)\n",
    "# віднімати сиски неможна, буде помилка\n",
    "#print(l1-l2)"
   ]
  },
  {
   "cell_type": "markdown",
   "metadata": {},
   "source": [
    "### Словники\n",
    "- дані записані в колекцію з певним ключем\n",
    "- ключ словника має бути унікальним, але значення можуть повторюватись і занченнями можуть бути інші списки або словники"
   ]
  },
  {
   "cell_type": "code",
   "execution_count": 33,
   "metadata": {},
   "outputs": [
    {
     "name": "stdout",
     "output_type": "stream",
     "text": [
      "value\n",
      "key\n",
      "Ось словник повністю: {'key': 'value', 'value': 'key'}\n"
     ]
    }
   ],
   "source": [
    "d = {'key': 'value'}\n",
    "print(d['key'])\n",
    "\n",
    "##############\n",
    "\n",
    "key = 'value'\n",
    "d[key] = 'key'\n",
    "print(d['value'])\n",
    "\n",
    "print(\"Ось словник повністю:\", d)"
   ]
  },
  {
   "cell_type": "code",
   "execution_count": 37,
   "metadata": {},
   "outputs": [
    {
     "name": "stdout",
     "output_type": "stream",
     "text": [
      "[1, 2]\n"
     ]
    }
   ],
   "source": [
    "dd = {\"a\": 1, \"a\": 2}\n",
    "dd\n",
    "\n",
    "d2 = {\"a\": 1, \"b\": 1, \"c\": [1,2]}\n",
    "print(d2['c'])"
   ]
  }
 ],
 "metadata": {
  "kernelspec": {
   "display_name": "Python 3",
   "language": "python",
   "name": "python3"
  },
  "language_info": {
   "codemirror_mode": {
    "name": "ipython",
    "version": 3
   },
   "file_extension": ".py",
   "mimetype": "text/x-python",
   "name": "python",
   "nbconvert_exporter": "python",
   "pygments_lexer": "ipython3",
   "version": "3.11.1"
  }
 },
 "nbformat": 4,
 "nbformat_minor": 2
}
